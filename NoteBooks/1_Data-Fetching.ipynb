{
 "cells": [
  {
   "cell_type": "markdown",
   "metadata": {},
   "source": [
    "## Libraries Required"
   ]
  },
  {
   "cell_type": "code",
   "execution_count": 1,
   "metadata": {
    "ExecuteTime": {
     "end_time": "2022-03-14T12:23:39.851546Z",
     "start_time": "2022-03-14T12:23:39.215836Z"
    }
   },
   "outputs": [],
   "source": [
    "import re\n",
    "import time\n",
    "import json\n",
    "import requests\n",
    "import numpy as np\n",
    "import pandas as pd"
   ]
  },
  {
   "cell_type": "code",
   "execution_count": 2,
   "metadata": {
    "ExecuteTime": {
     "end_time": "2022-03-14T12:23:41.391658Z",
     "start_time": "2022-03-14T12:23:41.386773Z"
    }
   },
   "outputs": [],
   "source": [
    "url = 'https://recruitment.aimtechnologies.co/ai-tasks'"
   ]
  },
  {
   "cell_type": "code",
   "execution_count": 3,
   "metadata": {
    "ExecuteTime": {
     "end_time": "2022-03-14T12:23:42.868643Z",
     "start_time": "2022-03-14T12:23:42.625722Z"
    }
   },
   "outputs": [],
   "source": [
    "df= pd.read_csv(\"dialect_dataset.csv\")"
   ]
  },
  {
   "cell_type": "code",
   "execution_count": 4,
   "metadata": {
    "ExecuteTime": {
     "end_time": "2022-03-14T12:23:45.455367Z",
     "start_time": "2022-03-14T12:23:45.341100Z"
    }
   },
   "outputs": [
    {
     "data": {
      "text/html": [
       "<div>\n",
       "<style scoped>\n",
       "    .dataframe tbody tr th:only-of-type {\n",
       "        vertical-align: middle;\n",
       "    }\n",
       "\n",
       "    .dataframe tbody tr th {\n",
       "        vertical-align: top;\n",
       "    }\n",
       "\n",
       "    .dataframe thead th {\n",
       "        text-align: right;\n",
       "    }\n",
       "</style>\n",
       "<table border=\"1\" class=\"dataframe\">\n",
       "  <thead>\n",
       "    <tr style=\"text-align: right;\">\n",
       "      <th></th>\n",
       "      <th>id</th>\n",
       "      <th>dialect</th>\n",
       "    </tr>\n",
       "  </thead>\n",
       "  <tbody>\n",
       "    <tr>\n",
       "      <th>394396</th>\n",
       "      <td>1038779788247420800</td>\n",
       "      <td>SD</td>\n",
       "    </tr>\n",
       "    <tr>\n",
       "      <th>15307</th>\n",
       "      <td>934831519096557568</td>\n",
       "      <td>IQ</td>\n",
       "    </tr>\n",
       "    <tr>\n",
       "      <th>237888</th>\n",
       "      <td>1186036848155648000</td>\n",
       "      <td>DZ</td>\n",
       "    </tr>\n",
       "    <tr>\n",
       "      <th>176173</th>\n",
       "      <td>1094279698887000064</td>\n",
       "      <td>JO</td>\n",
       "    </tr>\n",
       "    <tr>\n",
       "      <th>430238</th>\n",
       "      <td>369725373279662080</td>\n",
       "      <td>AE</td>\n",
       "    </tr>\n",
       "  </tbody>\n",
       "</table>\n",
       "</div>"
      ],
      "text/plain": [
       "                         id dialect\n",
       "394396  1038779788247420800      SD\n",
       "15307    934831519096557568      IQ\n",
       "237888  1186036848155648000      DZ\n",
       "176173  1094279698887000064      JO\n",
       "430238   369725373279662080      AE"
      ]
     },
     "execution_count": 4,
     "metadata": {},
     "output_type": "execute_result"
    }
   ],
   "source": [
    "df.sample(5)"
   ]
  },
  {
   "cell_type": "code",
   "execution_count": 5,
   "metadata": {
    "ExecuteTime": {
     "end_time": "2022-03-14T12:23:50.267819Z",
     "start_time": "2022-03-14T12:23:49.902593Z"
    }
   },
   "outputs": [
    {
     "name": "stdout",
     "output_type": "stream",
     "text": [
      "DataFrame Shape: (458197, 2) \n",
      "\n",
      "  DataFrame Info (1) \n",
      " --------------------\n",
      "<class 'pandas.core.frame.DataFrame'>\n",
      "RangeIndex: 458197 entries, 0 to 458196\n",
      "Data columns (total 2 columns):\n",
      "id         458197 non-null int64\n",
      "dialect    458197 non-null object\n",
      "dtypes: int64(1), object(1)\n",
      "memory usage: 7.0+ MB\n",
      "\n",
      "  DataFrame Info (2) \n",
      " --------------------\n",
      "<class 'pandas.core.frame.DataFrame'>\n",
      "RangeIndex: 458197 entries, 0 to 458196\n",
      "Data columns (total 2 columns):\n",
      "id         458197 non-null object\n",
      "dialect    458197 non-null object\n",
      "dtypes: object(2)\n",
      "memory usage: 7.0+ MB\n"
     ]
    }
   ],
   "source": [
    "print(\"DataFrame Shape:\",df.shape,\"\\n\")\n",
    "print(\"  DataFrame Info (1)\",\"\\n\",\"-\"*20)\n",
    "df.info()\n",
    "print(\"\")\n",
    "dfCopy=df.copy()\n",
    "dfCopy[\"id\"]=dfCopy[\"id\"].apply(str)\n",
    "\n",
    "print(\"  DataFrame Info (2)\",\"\\n\",\"-\"*20)\n",
    "dfCopy.info()"
   ]
  },
  {
   "cell_type": "code",
   "execution_count": 7,
   "metadata": {
    "ExecuteTime": {
     "end_time": "2022-03-14T12:23:58.515146Z",
     "start_time": "2022-03-14T12:23:58.510268Z"
    }
   },
   "outputs": [],
   "source": [
    "def roundUpToMultiple(number, multiple):\n",
    "    num = number + (multiple - 1)\n",
    "    return num - (num % multiple)"
   ]
  },
  {
   "cell_type": "code",
   "execution_count": 7,
   "metadata": {
    "ExecuteTime": {
     "end_time": "2022-03-11T23:21:42.773745Z",
     "start_time": "2022-03-11T23:11:25.548829Z"
    }
   },
   "outputs": [
    {
     "name": "stdout",
     "output_type": "stream",
     "text": [
      "10.286968398094178   Minutes\n"
     ]
    }
   ],
   "source": [
    "s=time.time()\n",
    "start=0\n",
    "end=1000\n",
    "tweetsList=[]\n",
    "while end <= roundUpToMultiple(dfCopy.shape[0], 1000):\n",
    "    ids=dfCopy[\"id\"][start:end].tolist()\n",
    "    r = requests.post(url,data=json.dumps(ids))\n",
    "    # print(r.status_code, r.reason)\n",
    "    dict_data=r.json()\n",
    "    for key,value in dict_data.items():\n",
    "        tweetsList.append(value)\n",
    "    start+=1000\n",
    "    end+=1000\n",
    "e=time.time()\n",
    "print((e-s)/60,\"  Minutes\")"
   ]
  },
  {
   "cell_type": "code",
   "execution_count": 8,
   "metadata": {
    "ExecuteTime": {
     "end_time": "2022-03-11T23:22:11.075370Z",
     "start_time": "2022-03-11T23:22:10.983582Z"
    }
   },
   "outputs": [],
   "source": [
    "dfCopy[\"tweets\"]=tweetsList"
   ]
  },
  {
   "cell_type": "code",
   "execution_count": 9,
   "metadata": {
    "ExecuteTime": {
     "end_time": "2022-03-11T23:22:11.848366Z",
     "start_time": "2022-03-11T23:22:11.738998Z"
    }
   },
   "outputs": [
    {
     "data": {
      "text/html": [
       "<div>\n",
       "<style scoped>\n",
       "    .dataframe tbody tr th:only-of-type {\n",
       "        vertical-align: middle;\n",
       "    }\n",
       "\n",
       "    .dataframe tbody tr th {\n",
       "        vertical-align: top;\n",
       "    }\n",
       "\n",
       "    .dataframe thead th {\n",
       "        text-align: right;\n",
       "    }\n",
       "</style>\n",
       "<table border=\"1\" class=\"dataframe\">\n",
       "  <thead>\n",
       "    <tr style=\"text-align: right;\">\n",
       "      <th></th>\n",
       "      <th>id</th>\n",
       "      <th>dialect</th>\n",
       "      <th>tweets</th>\n",
       "    </tr>\n",
       "  </thead>\n",
       "  <tbody>\n",
       "    <tr>\n",
       "      <th>128296</th>\n",
       "      <td>866760800509337600</td>\n",
       "      <td>SY</td>\n",
       "      <td>@ma74des تسلم الله يرفع قدرك 💐</td>\n",
       "    </tr>\n",
       "    <tr>\n",
       "      <th>215707</th>\n",
       "      <td>1132652769050017792</td>\n",
       "      <td>SA</td>\n",
       "      <td>@K_ibraheem @aboalnemr1 هههههههههه لؤي مين دا ...</td>\n",
       "    </tr>\n",
       "    <tr>\n",
       "      <th>281166</th>\n",
       "      <td>1071224043989336064</td>\n",
       "      <td>EG</td>\n",
       "      <td>#الزمالك_عاهره_افريقيا\\nوالله احنا اللي عملنال...</td>\n",
       "    </tr>\n",
       "    <tr>\n",
       "      <th>280524</th>\n",
       "      <td>1166846957442228224</td>\n",
       "      <td>EG</td>\n",
       "      <td>@dandrawy_hawary حماده امام وميمي الشربيني  ، ...</td>\n",
       "    </tr>\n",
       "    <tr>\n",
       "      <th>55012</th>\n",
       "      <td>1039102861366493184</td>\n",
       "      <td>QA</td>\n",
       "      <td>@Kafalsaud78 @Moh_SA00 مرة وحدة  ٣ مليون ريال ...</td>\n",
       "    </tr>\n",
       "  </tbody>\n",
       "</table>\n",
       "</div>"
      ],
      "text/plain": [
       "                         id dialect  \\\n",
       "128296   866760800509337600      SY   \n",
       "215707  1132652769050017792      SA   \n",
       "281166  1071224043989336064      EG   \n",
       "280524  1166846957442228224      EG   \n",
       "55012   1039102861366493184      QA   \n",
       "\n",
       "                                                   tweets  \n",
       "128296                     @ma74des تسلم الله يرفع قدرك 💐  \n",
       "215707  @K_ibraheem @aboalnemr1 هههههههههه لؤي مين دا ...  \n",
       "281166  #الزمالك_عاهره_افريقيا\\nوالله احنا اللي عملنال...  \n",
       "280524  @dandrawy_hawary حماده امام وميمي الشربيني  ، ...  \n",
       "55012   @Kafalsaud78 @Moh_SA00 مرة وحدة  ٣ مليون ريال ...  "
      ]
     },
     "execution_count": 9,
     "metadata": {},
     "output_type": "execute_result"
    }
   ],
   "source": [
    "dfCopy.sample(5)"
   ]
  },
  {
   "cell_type": "code",
   "execution_count": 10,
   "metadata": {
    "ExecuteTime": {
     "end_time": "2022-03-11T23:22:23.590891Z",
     "start_time": "2022-03-11T23:22:23.460045Z"
    }
   },
   "outputs": [
    {
     "name": "stdout",
     "output_type": "stream",
     "text": [
      "DataFrame Shape: (458197, 3) \n",
      "\n",
      "  DataFrame Info \n",
      " --------------------\n",
      "<class 'pandas.core.frame.DataFrame'>\n",
      "RangeIndex: 458197 entries, 0 to 458196\n",
      "Data columns (total 3 columns):\n",
      "id         458197 non-null object\n",
      "dialect    458197 non-null object\n",
      "tweets     458197 non-null object\n",
      "dtypes: object(3)\n",
      "memory usage: 10.5+ MB\n",
      "\n"
     ]
    }
   ],
   "source": [
    "print(\"DataFrame Shape:\",dfCopy.shape,\"\\n\")\n",
    "print(\"  DataFrame Info\",\"\\n\",\"-\"*20)\n",
    "dfCopy.info()\n",
    "print(\"\")"
   ]
  },
  {
   "cell_type": "code",
   "execution_count": 11,
   "metadata": {
    "ExecuteTime": {
     "end_time": "2022-03-11T23:23:37.913471Z",
     "start_time": "2022-03-11T23:23:37.778690Z"
    }
   },
   "outputs": [
    {
     "data": {
      "text/html": [
       "<div>\n",
       "<style scoped>\n",
       "    .dataframe tbody tr th:only-of-type {\n",
       "        vertical-align: middle;\n",
       "    }\n",
       "\n",
       "    .dataframe tbody tr th {\n",
       "        vertical-align: top;\n",
       "    }\n",
       "\n",
       "    .dataframe thead th {\n",
       "        text-align: right;\n",
       "    }\n",
       "</style>\n",
       "<table border=\"1\" class=\"dataframe\">\n",
       "  <thead>\n",
       "    <tr style=\"text-align: right;\">\n",
       "      <th></th>\n",
       "      <th>id</th>\n",
       "      <th>dialect</th>\n",
       "      <th>tweets</th>\n",
       "    </tr>\n",
       "  </thead>\n",
       "  <tbody>\n",
       "  </tbody>\n",
       "</table>\n",
       "</div>"
      ],
      "text/plain": [
       "Empty DataFrame\n",
       "Columns: [id, dialect, tweets]\n",
       "Index: []"
      ]
     },
     "execution_count": 11,
     "metadata": {},
     "output_type": "execute_result"
    }
   ],
   "source": [
    "dfCopy[dfCopy.isnull().any(axis=1)]"
   ]
  },
  {
   "cell_type": "code",
   "execution_count": 12,
   "metadata": {
    "ExecuteTime": {
     "end_time": "2022-03-11T23:23:46.708750Z",
     "start_time": "2022-03-11T23:23:43.788031Z"
    }
   },
   "outputs": [],
   "source": [
    "dfCopy.to_csv('fetchingTweets_dialect_dataset.csv', encoding='utf-8',index = None, header=True)"
   ]
  },
  {
   "cell_type": "markdown",
   "metadata": {},
   "source": [
    "__________________________________________________________________________________________________________________________"
   ]
  }
 ],
 "metadata": {
  "kernelspec": {
   "display_name": "Python 3 (ipykernel)",
   "language": "python",
   "name": "python3"
  },
  "language_info": {
   "codemirror_mode": {
    "name": "ipython",
    "version": 3
   },
   "file_extension": ".py",
   "mimetype": "text/x-python",
   "name": "python",
   "nbconvert_exporter": "python",
   "pygments_lexer": "ipython3",
   "version": "3.7.6"
  },
  "varInspector": {
   "cols": {
    "lenName": 16,
    "lenType": 16,
    "lenVar": 40
   },
   "kernels_config": {
    "python": {
     "delete_cmd_postfix": "",
     "delete_cmd_prefix": "del ",
     "library": "var_list.py",
     "varRefreshCmd": "print(var_dic_list())"
    },
    "r": {
     "delete_cmd_postfix": ") ",
     "delete_cmd_prefix": "rm(",
     "library": "var_list.r",
     "varRefreshCmd": "cat(var_dic_list()) "
    }
   },
   "types_to_exclude": [
    "module",
    "function",
    "builtin_function_or_method",
    "instance",
    "_Feature"
   ],
   "window_display": false
  }
 },
 "nbformat": 4,
 "nbformat_minor": 4
}
