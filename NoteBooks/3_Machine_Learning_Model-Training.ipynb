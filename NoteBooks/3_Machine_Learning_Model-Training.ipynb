{
 "cells": [
  {
   "cell_type": "markdown",
   "metadata": {},
   "source": [
    "## Libraries Required"
   ]
  },
  {
   "cell_type": "code",
   "execution_count": 1,
   "metadata": {
    "ExecuteTime": {
     "end_time": "2022-03-14T17:44:29.399786Z",
     "start_time": "2022-03-14T17:44:22.630622Z"
    }
   },
   "outputs": [],
   "source": [
    "#basic imports\n",
    "import pickle\n",
    "import numpy as np\n",
    "import pandas as pd\n",
    "import seaborn as sns\n",
    "import matplotlib.pyplot as plt\n",
    "%matplotlib inline\n",
    "\n",
    "#NLP imports\n",
    "import re\n",
    "import time\n",
    "import aranorm\n",
    "import dialectUtils\n",
    "import preprocess_arabert\n",
    "\n",
    "##Classification imports\n",
    "from sklearn.pipeline import Pipeline\n",
    "from imblearn.over_sampling import SMOTEN\n",
    "from sklearn.metrics import classification_report,confusion_matrix,accuracy_score,f1_score\n",
    "from sklearn.feature_extraction.text import CountVectorizer, TfidfVectorizer,TfidfTransformer\n",
    "\n",
    "#Models\n",
    "from sklearn.svm import SVC\n",
    "from sklearn.svm import LinearSVC\n",
    "from xgboost import XGBClassifier\n",
    "from catboost import CatBoostClassifier\n",
    "from sklearn.tree import DecisionTreeClassifier\n",
    "from sklearn.neural_network import MLPClassifier\n",
    "from sklearn.neighbors import KNeighborsClassifier\n",
    "from sklearn.linear_model import SGDClassifier,LogisticRegression\n",
    "from sklearn.discriminant_analysis import LinearDiscriminantAnalysis\n",
    "from sklearn.naive_bayes import MultinomialNB, BernoulliNB,GaussianNB\n",
    "from sklearn.model_selection import GridSearchCV,StratifiedShuffleSplit\n",
    "from sklearn.ensemble import RandomForestClassifier, BaggingClassifier,GradientBoostingClassifier,AdaBoostClassifier,BaggingClassifier,VotingClassifier"
   ]
  },
  {
   "cell_type": "code",
   "execution_count": 2,
   "metadata": {
    "ExecuteTime": {
     "end_time": "2022-03-14T17:44:36.431985Z",
     "start_time": "2022-03-14T17:44:35.080449Z"
    }
   },
   "outputs": [],
   "source": [
    "dfTrain=pd.read_csv(\"preProcessedTweets_trainF.csv\")\n",
    "dfTrain.dropna(inplace=True)\n",
    "dfValid=pd.read_csv(\"preProcessedTweets_validF.csv\")\n",
    "dfValid.dropna(inplace=True)\n",
    "dfTest=pd.read_csv(\"preProcessedTweets_testF.csv\")\n",
    "dfTest.dropna(inplace=True)"
   ]
  },
  {
   "cell_type": "code",
   "execution_count": 3,
   "metadata": {
    "ExecuteTime": {
     "end_time": "2022-03-14T17:44:37.050129Z",
     "start_time": "2022-03-14T17:44:36.979796Z"
    }
   },
   "outputs": [
    {
     "name": "stdout",
     "output_type": "stream",
     "text": [
      "<class 'pandas.core.frame.DataFrame'>\n",
      "Int64Index: 365723 entries, 0 to 365722\n",
      "Data columns (total 2 columns):\n",
      "text_preprocessed    365723 non-null object\n",
      "label                365723 non-null int64\n",
      "dtypes: int64(1), object(1)\n",
      "memory usage: 8.4+ MB\n"
     ]
    }
   ],
   "source": [
    "dfTrain.info()"
   ]
  },
  {
   "cell_type": "code",
   "execution_count": 4,
   "metadata": {
    "ExecuteTime": {
     "end_time": "2022-03-14T17:44:37.586131Z",
     "start_time": "2022-03-14T17:44:37.568558Z"
    }
   },
   "outputs": [
    {
     "name": "stdout",
     "output_type": "stream",
     "text": [
      "<class 'pandas.core.frame.DataFrame'>\n",
      "Int64Index: 45714 entries, 0 to 45714\n",
      "Data columns (total 2 columns):\n",
      "text_preprocessed    45714 non-null object\n",
      "label                45714 non-null int64\n",
      "dtypes: int64(1), object(1)\n",
      "memory usage: 1.0+ MB\n"
     ]
    }
   ],
   "source": [
    "dfValid.info()"
   ]
  },
  {
   "cell_type": "code",
   "execution_count": 5,
   "metadata": {
    "ExecuteTime": {
     "end_time": "2022-03-14T17:44:38.153537Z",
     "start_time": "2022-03-14T17:44:38.135965Z"
    }
   },
   "outputs": [
    {
     "name": "stdout",
     "output_type": "stream",
     "text": [
      "<class 'pandas.core.frame.DataFrame'>\n",
      "Int64Index: 45716 entries, 0 to 45715\n",
      "Data columns (total 2 columns):\n",
      "text_preprocessed    45716 non-null object\n",
      "label                45716 non-null int64\n",
      "dtypes: int64(1), object(1)\n",
      "memory usage: 1.0+ MB\n"
     ]
    }
   ],
   "source": [
    "dfTest.info()"
   ]
  },
  {
   "cell_type": "code",
   "execution_count": 6,
   "metadata": {
    "ExecuteTime": {
     "end_time": "2022-03-14T17:44:38.815864Z",
     "start_time": "2022-03-14T17:44:38.810979Z"
    }
   },
   "outputs": [],
   "source": [
    "textTest=['@Nw8ieJUwaCAAreT لكن بالنهاية .. ينتفض .. يغير .',\n",
    " '@7zNqXP0yrODdRjK يعني هذا محسوب على البشر .. حيونه ووحشيه .. وتطلبون من الغرب يحترمكم ويؤمن بدينكم ولاينعتكم بالإرهاب ..',\n",
    " '@KanaanRema مبين من كلامه خليجي',\n",
    " '@HAIDER76128900 يسلملي مرورك وروحك الحلوه💐',\n",
    " '@hmo2406 وين هل الغيبه  اخ محمد 🌸🌺']"
   ]
  },
  {
   "cell_type": "code",
   "execution_count": 7,
   "metadata": {
    "ExecuteTime": {
     "end_time": "2022-03-14T17:44:39.685459Z",
     "start_time": "2022-03-14T17:44:39.672766Z"
    }
   },
   "outputs": [
    {
     "data": {
      "text/plain": [
       "'لكن بالنهايه ينتفض يغير'"
      ]
     },
     "execution_count": 7,
     "metadata": {},
     "output_type": "execute_result"
    }
   ],
   "source": [
    "dialectUtils.tweet_preprcessing(textTest[0])"
   ]
  },
  {
   "cell_type": "code",
   "execution_count": 8,
   "metadata": {
    "ExecuteTime": {
     "end_time": "2022-03-14T17:44:41.201028Z",
     "start_time": "2022-03-14T17:44:41.196142Z"
    }
   },
   "outputs": [],
   "source": [
    "tweet=textTest[0]"
   ]
  },
  {
   "cell_type": "code",
   "execution_count": 10,
   "metadata": {
    "ExecuteTime": {
     "end_time": "2022-03-14T17:44:51.730916Z",
     "start_time": "2022-03-14T17:44:51.722128Z"
    }
   },
   "outputs": [],
   "source": [
    "df = pd.DataFrame({'T':textTest})\n",
    "df['T'] = df['T'].apply(dialectUtils.tweet_preprcessing)"
   ]
  },
  {
   "cell_type": "code",
   "execution_count": 11,
   "metadata": {
    "ExecuteTime": {
     "end_time": "2022-03-14T17:44:53.566273Z",
     "start_time": "2022-03-14T17:44:53.268847Z"
    }
   },
   "outputs": [
    {
     "data": {
      "text/html": [
       "<div>\n",
       "<style scoped>\n",
       "    .dataframe tbody tr th:only-of-type {\n",
       "        vertical-align: middle;\n",
       "    }\n",
       "\n",
       "    .dataframe tbody tr th {\n",
       "        vertical-align: top;\n",
       "    }\n",
       "\n",
       "    .dataframe thead th {\n",
       "        text-align: right;\n",
       "    }\n",
       "</style>\n",
       "<table border=\"1\" class=\"dataframe\">\n",
       "  <thead>\n",
       "    <tr style=\"text-align: right;\">\n",
       "      <th></th>\n",
       "      <th>T</th>\n",
       "    </tr>\n",
       "  </thead>\n",
       "  <tbody>\n",
       "    <tr>\n",
       "      <th>0</th>\n",
       "      <td>لكن بالنهايه ينتفض يغير</td>\n",
       "    </tr>\n",
       "    <tr>\n",
       "      <th>1</th>\n",
       "      <td>يعني هذا محسوب علي البشر حيونه ووحشيه وتطلبون ...</td>\n",
       "    </tr>\n",
       "    <tr>\n",
       "      <th>2</th>\n",
       "      <td>مبين من كلامه خليجي</td>\n",
       "    </tr>\n",
       "    <tr>\n",
       "      <th>3</th>\n",
       "      <td>يسلملي مرورك وروحك الحلوه</td>\n",
       "    </tr>\n",
       "    <tr>\n",
       "      <th>4</th>\n",
       "      <td>وين هل الغيبه اخ محمد</td>\n",
       "    </tr>\n",
       "  </tbody>\n",
       "</table>\n",
       "</div>"
      ],
      "text/plain": [
       "                                                   T\n",
       "0                            لكن بالنهايه ينتفض يغير\n",
       "1  يعني هذا محسوب علي البشر حيونه ووحشيه وتطلبون ...\n",
       "2                                مبين من كلامه خليجي\n",
       "3                          يسلملي مرورك وروحك الحلوه\n",
       "4                              وين هل الغيبه اخ محمد"
      ]
     },
     "execution_count": 11,
     "metadata": {},
     "output_type": "execute_result"
    }
   ],
   "source": [
    "df"
   ]
  },
  {
   "cell_type": "code",
   "execution_count": 12,
   "metadata": {
    "ExecuteTime": {
     "end_time": "2022-03-14T17:44:54.542892Z",
     "start_time": "2022-03-14T17:44:54.537030Z"
    }
   },
   "outputs": [],
   "source": [
    "keys_dictionary   = {0:\"EG\",1:\"PL\",2:\"KW\",3:\"LY\",4:\"QA\",5:\"JO\",6:\"LB\",7:\"SA\",8:\"AE\",9:\"BH\",\n",
    "                     10:\"OM\",11:\"SY\",12:\"DZ\",13:\"IQ\",14:\"SD\",15:\"MA\",16:\"YE\",17:\"TN\"}"
   ]
  },
  {
   "cell_type": "code",
   "execution_count": 13,
   "metadata": {
    "ExecuteTime": {
     "end_time": "2022-03-14T17:45:00.464097Z",
     "start_time": "2022-03-14T17:45:00.456285Z"
    }
   },
   "outputs": [],
   "source": [
    "def predictC(tweet,model):\n",
    "    df = pd.DataFrame({'T':[tweet]})\n",
    "    df['T'] = df['T'].apply(dialectUtils.tweet_preprcessing)\n",
    "    pred=model.predict(df['T']) \n",
    "    return keys_dictionary.get(pred[0])"
   ]
  },
  {
   "cell_type": "code",
   "execution_count": 14,
   "metadata": {
    "ExecuteTime": {
     "end_time": "2022-03-14T17:45:04.016022Z",
     "start_time": "2022-03-14T17:45:03.825626Z"
    }
   },
   "outputs": [],
   "source": [
    "Xtrain= dfTrain['text_preprocessed']\n",
    "ytrain= dfTrain[\"label\"].apply(int)\n",
    "\n",
    "Xval  = dfValid['text_preprocessed']\n",
    "yval  = dfValid[\"label\"].apply(int)\n",
    "\n",
    "Xtest = dfTest['text_preprocessed']\n",
    "ytest = dfTest[\"label\"].apply(int)"
   ]
  },
  {
   "cell_type": "markdown",
   "metadata": {},
   "source": [
    "## Training Models without Resampling"
   ]
  },
  {
   "cell_type": "markdown",
   "metadata": {},
   "source": [
    "### Approach 1: Naive Bayes Classifier for MultiNomial"
   ]
  },
  {
   "cell_type": "code",
   "execution_count": 15,
   "metadata": {
    "ExecuteTime": {
     "end_time": "2022-03-14T17:45:33.140448Z",
     "start_time": "2022-03-14T17:45:06.888013Z"
    }
   },
   "outputs": [
    {
     "data": {
      "text/plain": [
       "Pipeline(steps=[('vect',\n",
       "                 TfidfVectorizer(max_df=0.5, min_df=10, ngram_range=(1, 2),\n",
       "                                 sublinear_tf=True)),\n",
       "                ('tfidf', TfidfTransformer()),\n",
       "                ('clf', MultinomialNB(alpha=0.1))])"
      ]
     },
     "execution_count": 15,
     "metadata": {},
     "output_type": "execute_result"
    }
   ],
   "source": [
    "nb = Pipeline([('vect', TfidfVectorizer(ngram_range=(1, 2), sublinear_tf=True, max_df=0.5,min_df=10)),\n",
    "               ('tfidf', TfidfTransformer()),\n",
    "               ('clf', MultinomialNB(alpha=0.1))])\n",
    "\n",
    "nb.fit(Xtrain, ytrain)"
   ]
  },
  {
   "cell_type": "code",
   "execution_count": 19,
   "metadata": {
    "ExecuteTime": {
     "end_time": "2022-03-14T17:51:20.007870Z",
     "start_time": "2022-03-14T17:51:03.162269Z"
    },
    "scrolled": false
   },
   "outputs": [
    {
     "name": "stdout",
     "output_type": "stream",
     "text": [
      "Train Accuracy:       0.71\n",
      "Validation Accuracy:  0.51\n",
      "------------------------------------------------------------\n",
      "Test Accuracy:        0.51\n",
      "It took 1.6552  Second for Inference on Test Data\n",
      "------------------------------------------------------------\n",
      "Classification Report for Test Data by **Naive Bayes Classifier for MultiNomial**:\n",
      "--------------------------------------------------------------------------------\n",
      "              precision    recall  f1-score   support\n",
      "\n",
      "           0       0.63      0.87      0.73      5756\n",
      "           1       0.42      0.58      0.49      4368\n",
      "           2       0.41      0.60      0.48      4200\n",
      "           3       0.62      0.68      0.65      3647\n",
      "           4       0.42      0.47      0.44      3105\n",
      "           5       0.38      0.26      0.31      2784\n",
      "           6       0.63      0.64      0.63      2757\n",
      "           7       0.42      0.39      0.40      2678\n",
      "           8       0.41      0.38      0.39      2620\n",
      "           9       0.34      0.29      0.31      2612\n",
      "          10       0.46      0.28      0.35      1904\n",
      "          11       0.49      0.23      0.31      1621\n",
      "          12       0.64      0.46      0.53      1614\n",
      "          13       0.69      0.42      0.53      1548\n",
      "          14       0.83      0.48      0.61      1438\n",
      "          15       0.80      0.54      0.64      1153\n",
      "          16       0.48      0.11      0.18       988\n",
      "          17       0.76      0.32      0.45       923\n",
      "\n",
      "    accuracy                           0.51     45716\n",
      "   macro avg       0.54      0.44      0.47     45716\n",
      "weighted avg       0.52      0.51      0.50     45716\n",
      "\n"
     ]
    }
   ],
   "source": [
    "y_pred_ValNB = nb.predict(Xval)\n",
    "\n",
    "print('Train Accuracy:      ', round(nb.score(Xtrain, ytrain),2))\n",
    "print('Validation Accuracy: ', round(accuracy_score(y_pred_ValNB, yval),2))\n",
    "print(\"---\"*20)\n",
    "s=time.time()\n",
    "y_pred_TestNB= nb.predict(Xtest)\n",
    "print('Test Accuracy:       ', round(accuracy_score(y_pred_TestNB, ytest),2))\n",
    "e=time.time()\n",
    "print(\"It took\",round((e-s),4),\" Second for Inference on Test Data\")\n",
    "print(\"---\"*20)\n",
    "print(\"Classification Report for Test Data by **Naive Bayes Classifier for MultiNomial**:\\n\"+\"-\"*80)\n",
    "print(classification_report(ytest, y_pred_TestNB))"
   ]
  },
  {
   "cell_type": "code",
   "execution_count": 22,
   "metadata": {
    "ExecuteTime": {
     "end_time": "2022-03-14T17:53:28.493868Z",
     "start_time": "2022-03-14T17:53:26.841628Z"
    }
   },
   "outputs": [
    {
     "name": "stdout",
     "output_type": "stream",
     "text": [
      "Number of mislabeled points out of a total 45716 points : 22442\n"
     ]
    }
   ],
   "source": [
    "print(\"Number of mislabeled points out of a total %d points : %d\" % (Xtest.shape[0], (ytest != nb.predict(Xtest)).sum()))"
   ]
  },
  {
   "cell_type": "markdown",
   "metadata": {},
   "source": [
    "### Approach 2: Naive Bayes Classifier for BernoulliNB"
   ]
  },
  {
   "cell_type": "code",
   "execution_count": 20,
   "metadata": {
    "ExecuteTime": {
     "end_time": "2022-03-14T17:52:39.894372Z",
     "start_time": "2022-03-14T17:52:17.137044Z"
    }
   },
   "outputs": [
    {
     "data": {
      "text/plain": [
       "Pipeline(steps=[('vect',\n",
       "                 TfidfVectorizer(max_df=0.5, min_df=10, ngram_range=(1, 2),\n",
       "                                 sublinear_tf=True)),\n",
       "                ('tfidf', TfidfTransformer()),\n",
       "                ('clf', BernoulliNB(alpha=0.1))])"
      ]
     },
     "execution_count": 20,
     "metadata": {},
     "output_type": "execute_result"
    }
   ],
   "source": [
    "br = Pipeline([('vect', TfidfVectorizer(ngram_range=(1, 2), sublinear_tf=True, max_df=0.5,min_df=10)),\n",
    "               ('tfidf', TfidfTransformer()),\n",
    "               ('clf', BernoulliNB(alpha=0.1))])\n",
    "\n",
    "br.fit(Xtrain, ytrain)"
   ]
  },
  {
   "cell_type": "code",
   "execution_count": 21,
   "metadata": {
    "ExecuteTime": {
     "end_time": "2022-03-14T17:53:02.561023Z",
     "start_time": "2022-03-14T17:52:43.239025Z"
    }
   },
   "outputs": [
    {
     "name": "stdout",
     "output_type": "stream",
     "text": [
      "Train Accuracy:       0.69\n",
      "Validation Accuracy:  0.52\n",
      "------------------------------------------------------------\n",
      "Test Accuracy:        0.52\n",
      "It took 1.9579  Second for Inference on Test Data\n",
      "------------------------------------------------------------\n",
      "Classification Report for Test Data by **Naive Bayes Classifier for BernoulliNB**:\n",
      "--------------------------------------------------------------------------------\n",
      "              precision    recall  f1-score   support\n",
      "\n",
      "           0       0.80      0.78      0.79      5756\n",
      "           1       0.43      0.56      0.49      4368\n",
      "           2       0.54      0.48      0.51      4200\n",
      "           3       0.64      0.69      0.66      3647\n",
      "           4       0.51      0.42      0.46      3105\n",
      "           5       0.38      0.31      0.34      2784\n",
      "           6       0.68      0.61      0.64      2757\n",
      "           7       0.43      0.41      0.42      2678\n",
      "           8       0.44      0.38      0.41      2620\n",
      "           9       0.30      0.38      0.33      2612\n",
      "          10       0.32      0.40      0.36      1904\n",
      "          11       0.37      0.35      0.36      1621\n",
      "          12       0.52      0.50      0.51      1614\n",
      "          13       0.46      0.58      0.51      1548\n",
      "          14       0.72      0.58      0.64      1438\n",
      "          15       0.61      0.62      0.61      1153\n",
      "          16       0.26      0.22      0.24       988\n",
      "          17       0.59      0.41      0.49       923\n",
      "\n",
      "    accuracy                           0.52     45716\n",
      "   macro avg       0.50      0.48      0.49     45716\n",
      "weighted avg       0.52      0.52      0.52     45716\n",
      "\n"
     ]
    }
   ],
   "source": [
    "y_pred_ValBR = br.predict(Xval)\n",
    "\n",
    "print('Train Accuracy:      ', round(br.score(Xtrain, ytrain),2))\n",
    "print('Validation Accuracy: ', round(accuracy_score(y_pred_ValBR, yval),2))\n",
    "\n",
    "print(\"---\"*20)\n",
    "s=time.time()\n",
    "y_pred_TestBR= br.predict(Xtest)\n",
    "print('Test Accuracy:       ', round(accuracy_score(y_pred_TestBR, ytest),2))\n",
    "e=time.time()\n",
    "print(\"It took\",round((e-s),4),\" Second for Inference on Test Data\")\n",
    "print(\"---\"*20)\n",
    "\n",
    "print(\"Classification Report for Test Data by **Naive Bayes Classifier for BernoulliNB**:\\n\"+\"-\"*80)\n",
    "print(classification_report(ytest, y_pred_TestBR))"
   ]
  },
  {
   "cell_type": "code",
   "execution_count": 23,
   "metadata": {
    "ExecuteTime": {
     "end_time": "2022-03-14T17:53:37.463681Z",
     "start_time": "2022-03-14T17:53:35.318310Z"
    }
   },
   "outputs": [
    {
     "name": "stdout",
     "output_type": "stream",
     "text": [
      "Number of mislabeled points out of a total 45716 points : 22127\n"
     ]
    }
   ],
   "source": [
    "print(\"Number of mislabeled points out of a total %d points : %d\" % (Xtest.shape[0], (ytest != br.predict(Xtest)).sum()))"
   ]
  },
  {
   "cell_type": "markdown",
   "metadata": {},
   "source": [
    "### Approach 3: SGD Classifier and Loss Function is `hinge`, which gives a `linear SVM`."
   ]
  },
  {
   "cell_type": "code",
   "execution_count": 24,
   "metadata": {
    "ExecuteTime": {
     "end_time": "2022-03-14T17:54:54.644349Z",
     "start_time": "2022-03-14T17:53:39.922638Z"
    }
   },
   "outputs": [
    {
     "data": {
      "text/plain": [
       "Pipeline(steps=[('vect',\n",
       "                 TfidfVectorizer(max_df=0.5, ngram_range=(1, 2),\n",
       "                                 sublinear_tf=True)),\n",
       "                ('tfidf', TfidfTransformer()),\n",
       "                ('clf', SGDClassifier(random_state=0))])"
      ]
     },
     "execution_count": 24,
     "metadata": {},
     "output_type": "execute_result"
    }
   ],
   "source": [
    "sgd = Pipeline([('vect', TfidfVectorizer(ngram_range=(1, 2), sublinear_tf=True, max_df=0.5,min_df=1)),\n",
    "               ('tfidf', TfidfTransformer()),\n",
    "               ('clf', SGDClassifier(loss='hinge',random_state=0))])\n",
    "\n",
    "sgd.fit(Xtrain, ytrain)"
   ]
  },
  {
   "cell_type": "code",
   "execution_count": 25,
   "metadata": {
    "ExecuteTime": {
     "end_time": "2022-03-14T17:55:32.009077Z",
     "start_time": "2022-03-14T17:54:58.716285Z"
    }
   },
   "outputs": [
    {
     "name": "stdout",
     "output_type": "stream",
     "text": [
      "Train Accuracy:       0.95\n",
      "Validation Accuracy:  0.53\n",
      "------------------------------------------------------------\n",
      "Test Accuracy:        0.53\n",
      "It took 2.9549  Second for Inference on Test Data\n",
      "------------------------------------------------------------\n",
      "Classification Report for Test Data by **SGD Classifier**:\n",
      "--------------------------------------------------------------------------------\n",
      "              precision    recall  f1-score   support\n",
      "\n",
      "           0       0.51      0.94      0.66      5756\n",
      "           1       0.51      0.49      0.50      4368\n",
      "           2       0.48      0.63      0.54      4200\n",
      "           3       0.63      0.70      0.66      3647\n",
      "           4       0.48      0.48      0.48      3105\n",
      "           5       0.46      0.25      0.32      2784\n",
      "           6       0.56      0.73      0.63      2757\n",
      "           7       0.47      0.40      0.43      2678\n",
      "           8       0.48      0.39      0.43      2620\n",
      "           9       0.48      0.28      0.36      2612\n",
      "          10       0.55      0.33      0.41      1904\n",
      "          11       0.52      0.22      0.31      1621\n",
      "          12       0.62      0.51      0.56      1614\n",
      "          13       0.65      0.54      0.59      1548\n",
      "          14       0.64      0.43      0.52      1438\n",
      "          15       0.68      0.61      0.64      1153\n",
      "          16       0.53      0.15      0.23       988\n",
      "          17       0.68      0.38      0.49       923\n",
      "\n",
      "    accuracy                           0.53     45716\n",
      "   macro avg       0.55      0.47      0.49     45716\n",
      "weighted avg       0.53      0.53      0.51     45716\n",
      "\n"
     ]
    }
   ],
   "source": [
    "y_pred_ValSGD = sgd.predict(Xval)\n",
    "\n",
    "print('Train Accuracy:      ', round(sgd.score(Xtrain, ytrain),2))\n",
    "print('Validation Accuracy: ', round(accuracy_score(y_pred_ValSGD, yval),2))\n",
    "\n",
    "print(\"---\"*20)\n",
    "s=time.time()\n",
    "y_pred_TestSGD= sgd.predict(Xtest)\n",
    "print('Test Accuracy:       ', round(accuracy_score(y_pred_TestSGD, ytest),2))\n",
    "e=time.time()\n",
    "print(\"It took\",round((e-s),4),\" Second for Inference on Test Data\")\n",
    "print(\"---\"*20)\n",
    "\n",
    "print(\"Classification Report for Test Data by **SGD Classifier**:\\n\"+\"-\"*80)\n",
    "print(classification_report(ytest, y_pred_TestSGD))"
   ]
  },
  {
   "cell_type": "code",
   "execution_count": 26,
   "metadata": {
    "ExecuteTime": {
     "end_time": "2022-03-14T17:55:41.737588Z",
     "start_time": "2022-03-14T17:55:38.802231Z"
    }
   },
   "outputs": [
    {
     "name": "stdout",
     "output_type": "stream",
     "text": [
      "Number of mislabeled points out of a total 45716 points : 21510\n"
     ]
    }
   ],
   "source": [
    "print(\"Number of mislabeled points out of a total %d points : %d\" % (Xtest.shape[0], (ytest != sgd.predict(Xtest)).sum()))"
   ]
  },
  {
   "cell_type": "markdown",
   "metadata": {},
   "source": [
    "### Approach 4: LinearSVC Classifier and Balanced Class Weight"
   ]
  },
  {
   "cell_type": "code",
   "execution_count": 27,
   "metadata": {
    "ExecuteTime": {
     "end_time": "2022-03-14T17:59:29.053226Z",
     "start_time": "2022-03-14T17:55:50.443274Z"
    }
   },
   "outputs": [
    {
     "data": {
      "text/plain": [
       "Pipeline(steps=[('vect',\n",
       "                 TfidfVectorizer(max_df=0.5, ngram_range=(1, 2),\n",
       "                                 sublinear_tf=True)),\n",
       "                ('tfidf', TfidfTransformer()),\n",
       "                ('clf',\n",
       "                 LinearSVC(class_weight='balanced', random_state=0,\n",
       "                           tol=1e-05))])"
      ]
     },
     "execution_count": 27,
     "metadata": {},
     "output_type": "execute_result"
    }
   ],
   "source": [
    "lsvm = Pipeline([('vect', TfidfVectorizer(ngram_range=(1, 2), sublinear_tf=True, max_df=0.5,min_df=1)),\n",
    "               ('tfidf', TfidfTransformer()),\n",
    "               ('clf', LinearSVC(random_state=0, tol=1e-5,class_weight=\"balanced\"))])\n",
    "\n",
    "lsvm.fit(Xtrain, ytrain)"
   ]
  },
  {
   "cell_type": "code",
   "execution_count": 28,
   "metadata": {
    "ExecuteTime": {
     "end_time": "2022-03-14T18:00:05.929860Z",
     "start_time": "2022-03-14T17:59:37.107484Z"
    }
   },
   "outputs": [
    {
     "name": "stdout",
     "output_type": "stream",
     "text": [
      "Train Accuracy:       1.0\n",
      "Validation Accuracy:  0.57\n",
      "------------------------------------------------------------\n",
      "Test Accuracy:        0.57\n",
      "It took 2.5965  Second for Inference on Test Data\n",
      "------------------------------------------------------------\n",
      "Classification Report for Test Data by **LinearSVC Classifier and Balanced Class Weight**:\n",
      "--------------------------------------------------------------------------------\n",
      "              precision    recall  f1-score   support\n",
      "\n",
      "           0       0.71      0.88      0.78      5756\n",
      "           1       0.54      0.52      0.53      4368\n",
      "           2       0.53      0.60      0.56      4200\n",
      "           3       0.73      0.72      0.73      3647\n",
      "           4       0.48      0.51      0.50      3105\n",
      "           5       0.44      0.36      0.39      2784\n",
      "           6       0.62      0.71      0.67      2757\n",
      "           7       0.45      0.48      0.46      2678\n",
      "           8       0.45      0.46      0.46      2620\n",
      "           9       0.42      0.34      0.38      2612\n",
      "          10       0.46      0.41      0.43      1904\n",
      "          11       0.48      0.36      0.41      1621\n",
      "          12       0.60      0.59      0.59      1614\n",
      "          13       0.61      0.59      0.60      1548\n",
      "          14       0.69      0.62      0.65      1438\n",
      "          15       0.69      0.64      0.66      1153\n",
      "          16       0.38      0.24      0.29       988\n",
      "          17       0.62      0.50      0.55       923\n",
      "\n",
      "    accuracy                           0.57     45716\n",
      "   macro avg       0.55      0.53      0.54     45716\n",
      "weighted avg       0.56      0.57      0.56     45716\n",
      "\n"
     ]
    }
   ],
   "source": [
    "y_pred_ValLSVM = lsvm.predict(Xval)\n",
    "\n",
    "print('Train Accuracy:      ', round(lsvm.score(Xtrain, ytrain),2))\n",
    "print('Validation Accuracy: ', round(accuracy_score(y_pred_ValLSVM, yval),2))\n",
    "\n",
    "print(\"---\"*20)\n",
    "s=time.time()\n",
    "y_pred_TestLSVM= lsvm.predict(Xtest)\n",
    "print('Test Accuracy:       ', round(accuracy_score(y_pred_TestLSVM, ytest),2))\n",
    "e=time.time()\n",
    "print(\"It took\",round((e-s),4),\" Second for Inference on Test Data\")\n",
    "print(\"---\"*20)\n",
    "\n",
    "print(\"Classification Report for Test Data by **LinearSVC Classifier and Balanced Class Weight**:\\n\"+\"-\"*80)\n",
    "print(classification_report(ytest, y_pred_TestLSVM))"
   ]
  },
  {
   "cell_type": "code",
   "execution_count": 29,
   "metadata": {
    "ExecuteTime": {
     "end_time": "2022-03-14T18:00:36.680813Z",
     "start_time": "2022-03-14T18:00:33.959309Z"
    }
   },
   "outputs": [
    {
     "name": "stdout",
     "output_type": "stream",
     "text": [
      "Number of mislabeled points out of a total 45716 points : 19763\n"
     ]
    }
   ],
   "source": [
    "print(\"Number of mislabeled points out of a total %d points : %d\" % (Xtest.shape[0], (ytest != lsvm.predict(Xtest)).sum()))"
   ]
  },
  {
   "cell_type": "markdown",
   "metadata": {},
   "source": [
    "##### As we See that seems LinearSVC Classifier is the best as it is recommended in the Paper and because LinearSVC tends to be faster to converge the larger the number of samples and it is actually minimizing squared hinge loss, instead of just hinge loss."
   ]
  },
  {
   "cell_type": "code",
   "execution_count": 31,
   "metadata": {
    "ExecuteTime": {
     "end_time": "2022-03-14T18:01:32.648147Z",
     "start_time": "2022-03-14T18:01:28.395494Z"
    }
   },
   "outputs": [
    {
     "data": {
      "image/png": "[encoded data removed]",
      "text/plain": [
       "<Figure size 864x864 with 2 Axes>"
      ]
     },
     "metadata": {
      "needs_background": "light"
     },
     "output_type": "display_data"
    }
   ],
   "source": [
    "conf_mat = confusion_matrix(ytest, lsvm.predict(Xtest))\n",
    "fig, ax = plt.subplots(figsize=(12,12))\n",
    "sns.heatmap(conf_mat, annot=True, fmt='d')\n",
    "plt.ylabel('Actual')\n",
    "plt.xlabel('Predicted')\n",
    "plt.show()"
   ]
  },
  {
   "cell_type": "code",
   "execution_count": 32,
   "metadata": {
    "ExecuteTime": {
     "end_time": "2022-03-14T18:01:50.356436Z",
     "start_time": "2022-03-14T18:01:47.590009Z"
    }
   },
   "outputs": [
    {
     "name": "stdout",
     "output_type": "stream",
     "text": [
      "Number of mislabeled points out of a total 45716 points : 19763\n"
     ]
    }
   ],
   "source": [
    "print(\"Number of mislabeled points out of a total %d points : %d\" % (Xtest.shape[0], (ytest != lsvm.predict(Xtest)).sum()))"
   ]
  },
  {
   "cell_type": "code",
   "execution_count": 33,
   "metadata": {
    "ExecuteTime": {
     "end_time": "2022-03-14T18:01:57.705338Z",
     "start_time": "2022-03-14T18:01:54.998469Z"
    }
   },
   "outputs": [
    {
     "name": "stdout",
     "output_type": "stream",
     "text": [
      "              precision    recall  f1-score   support\n",
      "\n",
      "           0       0.71      0.88      0.78      5756\n",
      "           1       0.54      0.52      0.53      4368\n",
      "           2       0.53      0.60      0.56      4200\n",
      "           3       0.73      0.72      0.73      3647\n",
      "           4       0.48      0.51      0.50      3105\n",
      "           5       0.44      0.36      0.39      2784\n",
      "           6       0.62      0.71      0.67      2757\n",
      "           7       0.45      0.48      0.46      2678\n",
      "           8       0.45      0.46      0.46      2620\n",
      "           9       0.42      0.34      0.38      2612\n",
      "          10       0.46      0.41      0.43      1904\n",
      "          11       0.48      0.36      0.41      1621\n",
      "          12       0.60      0.59      0.59      1614\n",
      "          13       0.61      0.59      0.60      1548\n",
      "          14       0.69      0.62      0.65      1438\n",
      "          15       0.69      0.64      0.66      1153\n",
      "          16       0.38      0.24      0.29       988\n",
      "          17       0.62      0.50      0.55       923\n",
      "\n",
      "    accuracy                           0.57     45716\n",
      "   macro avg       0.55      0.53      0.54     45716\n",
      "weighted avg       0.56      0.57      0.56     45716\n",
      "\n"
     ]
    }
   ],
   "source": [
    "print(classification_report(ytest, lsvm.predict(Xtest)))"
   ]
  },
  {
   "cell_type": "code",
   "execution_count": null,
   "metadata": {},
   "outputs": [],
   "source": [
    "Original:   وكل سنه وكل يوم وانت سالم وسط عيلتك ومحبيك\n",
    "Tokenized:  ['وكل', 'سنه', 'وكل', 'يوم', 'وانت', 'سالم', 'وسط', 'عي', '##لتك', 'ومحبي', '##ك']\n",
    "Token IDs:  [8465, 16278, 485, 3998, 6804, 209, 3651, 25697, 24325, 740, 14247]"
   ]
  },
  {
   "cell_type": "code",
   "execution_count": 34,
   "metadata": {
    "ExecuteTime": {
     "end_time": "2022-03-14T18:02:48.356413Z",
     "start_time": "2022-03-14T18:02:08.138354Z"
    }
   },
   "outputs": [
    {
     "data": {
      "text/plain": [
       "['LinearSVC_model.pkl']"
      ]
     },
     "execution_count": 34,
     "metadata": {},
     "output_type": "execute_result"
    }
   ],
   "source": [
    "import joblib\n",
    "joblib.dump(lsvm, 'LinearSVC_model.pkl')"
   ]
  },
  {
   "cell_type": "markdown",
   "metadata": {},
   "source": [
    "__________________________________________________________________________________________________________________________"
   ]
  }
 ],
 "metadata": {
  "kernelspec": {
   "display_name": "Python 3 (ipykernel)",
   "language": "python",
   "name": "python3"
  },
  "language_info": {
   "codemirror_mode": {
    "name": "ipython",
    "version": 3
   },
   "file_extension": ".py",
   "mimetype": "text/x-python",
   "name": "python",
   "nbconvert_exporter": "python",
   "pygments_lexer": "ipython3",
   "version": "3.7.6"
  },
  "varInspector": {
   "cols": {
    "lenName": 16,
    "lenType": 16,
    "lenVar": 40
   },
   "kernels_config": {
    "python": {
     "delete_cmd_postfix": "",
     "delete_cmd_prefix": "del ",
     "library": "var_list.py",
     "varRefreshCmd": "print(var_dic_list())"
    },
    "r": {
     "delete_cmd_postfix": ") ",
     "delete_cmd_prefix": "rm(",
     "library": "var_list.r",
     "varRefreshCmd": "cat(var_dic_list()) "
    }
   },
   "types_to_exclude": [
    "module",
    "function",
    "builtin_function_or_method",
    "instance",
    "_Feature"
   ],
   "window_display": false
  }
 },
 "nbformat": 4,
 "nbformat_minor": 4
}
