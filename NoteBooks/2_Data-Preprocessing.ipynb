{
 "cells": [
  {
   "cell_type": "markdown",
   "metadata": {},
   "source": [
    "## Libraries Required"
   ]
  },
  {
   "cell_type": "code",
   "execution_count": 1,
   "metadata": {
    "ExecuteTime": {
     "end_time": "2022-03-12T01:05:26.510314Z",
     "start_time": "2022-03-12T01:05:21.940731Z"
    }
   },
   "outputs": [],
   "source": [
    "import re\n",
    "import time\n",
    "import aranorm\n",
    "import random\n",
    "import numpy as np\n",
    "import pandas as pd\n",
    "import seaborn as sns\n",
    "import preprocess_arabert\n",
    "from sklearn.model_selection import train_test_split"
   ]
  },
  {
   "cell_type": "code",
   "execution_count": 2,
   "metadata": {
    "ExecuteTime": {
     "end_time": "2022-03-12T01:05:41.006071Z",
     "start_time": "2022-03-12T01:05:41.001188Z"
    }
   },
   "outputs": [],
   "source": [
    "seed=42\n",
    "random.seed(seed)"
   ]
  },
  {
   "cell_type": "code",
   "execution_count": 3,
   "metadata": {
    "ExecuteTime": {
     "end_time": "2022-03-12T01:05:43.883350Z",
     "start_time": "2022-03-12T01:05:42.092378Z"
    }
   },
   "outputs": [],
   "source": [
    "df= pd.read_csv(\"fetchingTweets_dialect_dataset.csv\")"
   ]
  },
  {
   "cell_type": "code",
   "execution_count": 5,
   "metadata": {
    "ExecuteTime": {
     "end_time": "2022-03-12T01:06:25.621546Z",
     "start_time": "2022-03-12T01:06:25.603969Z"
    }
   },
   "outputs": [
    {
     "data": {
      "text/html": [
       "<div>\n",
       "<style scoped>\n",
       "    .dataframe tbody tr th:only-of-type {\n",
       "        vertical-align: middle;\n",
       "    }\n",
       "\n",
       "    .dataframe tbody tr th {\n",
       "        vertical-align: top;\n",
       "    }\n",
       "\n",
       "    .dataframe thead th {\n",
       "        text-align: right;\n",
       "    }\n",
       "</style>\n",
       "<table border=\"1\" class=\"dataframe\">\n",
       "  <thead>\n",
       "    <tr style=\"text-align: right;\">\n",
       "      <th></th>\n",
       "      <th>id</th>\n",
       "      <th>dialect</th>\n",
       "      <th>tweets</th>\n",
       "    </tr>\n",
       "  </thead>\n",
       "  <tbody>\n",
       "    <tr>\n",
       "      <th>0</th>\n",
       "      <td>1175358310087892992</td>\n",
       "      <td>IQ</td>\n",
       "      <td>@Nw8ieJUwaCAAreT لكن بالنهاية .. ينتفض .. يغير .</td>\n",
       "    </tr>\n",
       "    <tr>\n",
       "      <th>1</th>\n",
       "      <td>1175416117793349632</td>\n",
       "      <td>IQ</td>\n",
       "      <td>@7zNqXP0yrODdRjK يعني هذا محسوب على البشر .. ح...</td>\n",
       "    </tr>\n",
       "    <tr>\n",
       "      <th>2</th>\n",
       "      <td>1175450108898565888</td>\n",
       "      <td>IQ</td>\n",
       "      <td>@KanaanRema مبين من كلامه خليجي</td>\n",
       "    </tr>\n",
       "    <tr>\n",
       "      <th>3</th>\n",
       "      <td>1175471073770573824</td>\n",
       "      <td>IQ</td>\n",
       "      <td>@HAIDER76128900 يسلملي مرورك وروحك الحلوه💐</td>\n",
       "    </tr>\n",
       "    <tr>\n",
       "      <th>4</th>\n",
       "      <td>1175496913145217024</td>\n",
       "      <td>IQ</td>\n",
       "      <td>@hmo2406 وين هل الغيبه  اخ محمد 🌸🌺</td>\n",
       "    </tr>\n",
       "  </tbody>\n",
       "</table>\n",
       "</div>"
      ],
      "text/plain": [
       "                    id dialect  \\\n",
       "0  1175358310087892992      IQ   \n",
       "1  1175416117793349632      IQ   \n",
       "2  1175450108898565888      IQ   \n",
       "3  1175471073770573824      IQ   \n",
       "4  1175496913145217024      IQ   \n",
       "\n",
       "                                              tweets  \n",
       "0   @Nw8ieJUwaCAAreT لكن بالنهاية .. ينتفض .. يغير .  \n",
       "1  @7zNqXP0yrODdRjK يعني هذا محسوب على البشر .. ح...  \n",
       "2                    @KanaanRema مبين من كلامه خليجي  \n",
       "3         @HAIDER76128900 يسلملي مرورك وروحك الحلوه💐  \n",
       "4                 @hmo2406 وين هل الغيبه  اخ محمد 🌸🌺  "
      ]
     },
     "execution_count": 5,
     "metadata": {},
     "output_type": "execute_result"
    }
   ],
   "source": [
    "df.head()"
   ]
  },
  {
   "cell_type": "code",
   "execution_count": 4,
   "metadata": {
    "ExecuteTime": {
     "end_time": "2022-03-12T01:06:03.019938Z",
     "start_time": "2022-03-12T01:06:02.906666Z"
    }
   },
   "outputs": [
    {
     "name": "stdout",
     "output_type": "stream",
     "text": [
      "DataFrame Shape: (458197, 3) \n",
      "\n",
      "  DataFrame Info \n",
      " --------------------\n",
      "<class 'pandas.core.frame.DataFrame'>\n",
      "RangeIndex: 458197 entries, 0 to 458196\n",
      "Data columns (total 3 columns):\n",
      "id         458197 non-null int64\n",
      "dialect    458197 non-null object\n",
      "tweets     458197 non-null object\n",
      "dtypes: int64(1), object(2)\n",
      "memory usage: 10.5+ MB\n",
      "\n"
     ]
    }
   ],
   "source": [
    "print(\"DataFrame Shape:\",df.shape,\"\\n\")\n",
    "print(\"  DataFrame Info\",\"\\n\",\"-\"*20)\n",
    "df.info()\n",
    "print(\"\")"
   ]
  },
  {
   "cell_type": "code",
   "execution_count": 6,
   "metadata": {
    "ExecuteTime": {
     "end_time": "2022-03-12T01:06:42.895907Z",
     "start_time": "2022-03-12T01:06:42.779710Z"
    }
   },
   "outputs": [
    {
     "data": {
      "text/html": [
       "<div>\n",
       "<style scoped>\n",
       "    .dataframe tbody tr th:only-of-type {\n",
       "        vertical-align: middle;\n",
       "    }\n",
       "\n",
       "    .dataframe tbody tr th {\n",
       "        vertical-align: top;\n",
       "    }\n",
       "\n",
       "    .dataframe thead th {\n",
       "        text-align: right;\n",
       "    }\n",
       "</style>\n",
       "<table border=\"1\" class=\"dataframe\">\n",
       "  <thead>\n",
       "    <tr style=\"text-align: right;\">\n",
       "      <th></th>\n",
       "      <th>id</th>\n",
       "      <th>dialect</th>\n",
       "      <th>tweets</th>\n",
       "    </tr>\n",
       "  </thead>\n",
       "  <tbody>\n",
       "  </tbody>\n",
       "</table>\n",
       "</div>"
      ],
      "text/plain": [
       "Empty DataFrame\n",
       "Columns: [id, dialect, tweets]\n",
       "Index: []"
      ]
     },
     "execution_count": 6,
     "metadata": {},
     "output_type": "execute_result"
    }
   ],
   "source": [
    "df[df.isnull().any(axis=1)]"
   ]
  },
  {
   "cell_type": "code",
   "execution_count": 7,
   "metadata": {
    "ExecuteTime": {
     "end_time": "2022-03-12T01:06:46.876527Z",
     "start_time": "2022-03-12T01:06:46.775971Z"
    }
   },
   "outputs": [],
   "source": [
    "tweets = list(df[\"tweets\"])"
   ]
  },
  {
   "cell_type": "code",
   "execution_count": 8,
   "metadata": {
    "ExecuteTime": {
     "end_time": "2022-03-12T01:07:48.794806Z",
     "start_time": "2022-03-12T01:06:47.838747Z"
    }
   },
   "outputs": [
    {
     "name": "stdout",
     "output_type": "stream",
     "text": [
      "1.0158203999201456   Minutes\n"
     ]
    }
   ],
   "source": [
    "s=time.time()\n",
    "text_preprocessed = [preprocess_arabert.preprocess(txt, do_farasa_tokenization=True) for txt in tweets] \n",
    "text_preprocessed=[aranorm.normalize_arabic_text(txt) for txt in text_preprocessed]\n",
    "e=time.time()\n",
    "print((e-s)/60,\"  Minutes\")"
   ]
  },
  {
   "cell_type": "code",
   "execution_count": 9,
   "metadata": {
    "ExecuteTime": {
     "end_time": "2022-03-12T01:07:52.327065Z",
     "start_time": "2022-03-12T01:07:52.319248Z"
    }
   },
   "outputs": [
    {
     "data": {
      "text/plain": [
       "['@Nw8ieJUwaCAAreT لكن بالنهاية .. ينتفض .. يغير .',\n",
       " '@7zNqXP0yrODdRjK يعني هذا محسوب على البشر .. حيونه ووحشيه .. وتطلبون من الغرب يحترمكم ويؤمن بدينكم ولاينعتكم بالإرهاب ..',\n",
       " '@KanaanRema مبين من كلامه خليجي',\n",
       " '@HAIDER76128900 يسلملي مرورك وروحك الحلوه💐',\n",
       " '@hmo2406 وين هل الغيبه  اخ محمد 🌸🌺']"
      ]
     },
     "execution_count": 9,
     "metadata": {},
     "output_type": "execute_result"
    }
   ],
   "source": [
    "tweets[:5]"
   ]
  },
  {
   "cell_type": "code",
   "execution_count": 10,
   "metadata": {
    "ExecuteTime": {
     "end_time": "2022-03-12T01:07:54.894201Z",
     "start_time": "2022-03-12T01:07:54.885408Z"
    }
   },
   "outputs": [
    {
     "data": {
      "text/plain": [
       "['لكن بالنهايه ينتفض يغير',\n",
       " 'يعني هذا محسوب علي البشر حيونه ووحشيه وتطلبون من الغرب يحترمكم ويءمن بدينكم ولاينعتكم بالارهاب',\n",
       " 'مبين من كلامه خليجي',\n",
       " 'يسلملي مرورك وروحك الحلوه',\n",
       " 'وين هل الغيبه اخ محمد']"
      ]
     },
     "execution_count": 10,
     "metadata": {},
     "output_type": "execute_result"
    }
   ],
   "source": [
    "text_preprocessed[:5]"
   ]
  },
  {
   "cell_type": "code",
   "execution_count": 11,
   "metadata": {
    "ExecuteTime": {
     "end_time": "2022-03-12T01:07:58.922078Z",
     "start_time": "2022-03-12T01:07:58.857630Z"
    }
   },
   "outputs": [],
   "source": [
    "df[\"text_preprocessed\"]=text_preprocessed"
   ]
  },
  {
   "cell_type": "code",
   "execution_count": 12,
   "metadata": {
    "ExecuteTime": {
     "end_time": "2022-03-12T01:07:59.858281Z",
     "start_time": "2022-03-12T01:07:59.748920Z"
    }
   },
   "outputs": [
    {
     "data": {
      "text/html": [
       "<div>\n",
       "<style scoped>\n",
       "    .dataframe tbody tr th:only-of-type {\n",
       "        vertical-align: middle;\n",
       "    }\n",
       "\n",
       "    .dataframe tbody tr th {\n",
       "        vertical-align: top;\n",
       "    }\n",
       "\n",
       "    .dataframe thead th {\n",
       "        text-align: right;\n",
       "    }\n",
       "</style>\n",
       "<table border=\"1\" class=\"dataframe\">\n",
       "  <thead>\n",
       "    <tr style=\"text-align: right;\">\n",
       "      <th></th>\n",
       "      <th>id</th>\n",
       "      <th>dialect</th>\n",
       "      <th>tweets</th>\n",
       "      <th>text_preprocessed</th>\n",
       "    </tr>\n",
       "  </thead>\n",
       "  <tbody>\n",
       "    <tr>\n",
       "      <th>166826</th>\n",
       "      <td>1046120224498434048</td>\n",
       "      <td>JO</td>\n",
       "      <td>روتين حياتي ممل جداً فلا تنكد علي الله ينكد عليك.</td>\n",
       "      <td>روتين حياتي ممل جدا فلا تنكد علي الله ينكد عليك</td>\n",
       "    </tr>\n",
       "    <tr>\n",
       "      <th>301048</th>\n",
       "      <td>1145818238720401408</td>\n",
       "      <td>EG</td>\n",
       "      <td>@ahmedamara37 نفس النظره الي بصها لمرسي</td>\n",
       "      <td>نفس النظره الي بصها لمرسي</td>\n",
       "    </tr>\n",
       "    <tr>\n",
       "      <th>412203</th>\n",
       "      <td>1151947556408168448</td>\n",
       "      <td>AE</td>\n",
       "      <td>@Q8yaI @bohamad677 @Almajlliss كلامي واضح و لا...</td>\n",
       "      <td>كلامي واضح و لا تجلسين و ادورين الزله</td>\n",
       "    </tr>\n",
       "    <tr>\n",
       "      <th>163706</th>\n",
       "      <td>1036660395266715648</td>\n",
       "      <td>JO</td>\n",
       "      <td>@sallalmahmoud يما ما اقواك😂😂😂ترى قد ما التكنو...</td>\n",
       "      <td>يما ما اقواك تري قد ما التكنو نكد بس والله الج...</td>\n",
       "    </tr>\n",
       "    <tr>\n",
       "      <th>406890</th>\n",
       "      <td>966232829490356224</td>\n",
       "      <td>AE</td>\n",
       "      <td>#انا_من_جيل لعبة #المسطاع \\n.\\nسقا الله ذيكـ ا...</td>\n",
       "      <td>انا من جيل لعبه المسطاع سقا الله ذيك الايام وي...</td>\n",
       "    </tr>\n",
       "  </tbody>\n",
       "</table>\n",
       "</div>"
      ],
      "text/plain": [
       "                         id dialect  \\\n",
       "166826  1046120224498434048      JO   \n",
       "301048  1145818238720401408      EG   \n",
       "412203  1151947556408168448      AE   \n",
       "163706  1036660395266715648      JO   \n",
       "406890   966232829490356224      AE   \n",
       "\n",
       "                                                   tweets  \\\n",
       "166826  روتين حياتي ممل جداً فلا تنكد علي الله ينكد عليك.   \n",
       "301048            @ahmedamara37 نفس النظره الي بصها لمرسي   \n",
       "412203  @Q8yaI @bohamad677 @Almajlliss كلامي واضح و لا...   \n",
       "163706  @sallalmahmoud يما ما اقواك😂😂😂ترى قد ما التكنو...   \n",
       "406890  #انا_من_جيل لعبة #المسطاع \\n.\\nسقا الله ذيكـ ا...   \n",
       "\n",
       "                                        text_preprocessed  \n",
       "166826    روتين حياتي ممل جدا فلا تنكد علي الله ينكد عليك  \n",
       "301048                          نفس النظره الي بصها لمرسي  \n",
       "412203              كلامي واضح و لا تجلسين و ادورين الزله  \n",
       "163706  يما ما اقواك تري قد ما التكنو نكد بس والله الج...  \n",
       "406890  انا من جيل لعبه المسطاع سقا الله ذيك الايام وي...  "
      ]
     },
     "execution_count": 12,
     "metadata": {},
     "output_type": "execute_result"
    }
   ],
   "source": [
    "df.sample(5)"
   ]
  },
  {
   "cell_type": "code",
   "execution_count": 13,
   "metadata": {
    "ExecuteTime": {
     "end_time": "2022-03-12T01:08:04.115286Z",
     "start_time": "2022-03-12T01:08:03.954164Z"
    }
   },
   "outputs": [
    {
     "name": "stdout",
     "output_type": "stream",
     "text": [
      "DataFrame Shape: (458197, 4) \n",
      "\n",
      "  DataFrame Info \n",
      " --------------------\n",
      "<class 'pandas.core.frame.DataFrame'>\n",
      "RangeIndex: 458197 entries, 0 to 458196\n",
      "Data columns (total 4 columns):\n",
      "id                   458197 non-null int64\n",
      "dialect              458197 non-null object\n",
      "tweets               458197 non-null object\n",
      "text_preprocessed    458197 non-null object\n",
      "dtypes: int64(1), object(3)\n",
      "memory usage: 14.0+ MB\n",
      "\n"
     ]
    }
   ],
   "source": [
    "print(\"DataFrame Shape:\",df.shape,\"\\n\")\n",
    "print(\"  DataFrame Info\",\"\\n\",\"-\"*20)\n",
    "df.info()\n",
    "print(\"\")"
   ]
  },
  {
   "cell_type": "code",
   "execution_count": 14,
   "metadata": {
    "ExecuteTime": {
     "end_time": "2022-03-12T01:08:07.803780Z",
     "start_time": "2022-03-12T01:08:07.665098Z"
    }
   },
   "outputs": [
    {
     "data": {
      "text/html": [
       "<div>\n",
       "<style scoped>\n",
       "    .dataframe tbody tr th:only-of-type {\n",
       "        vertical-align: middle;\n",
       "    }\n",
       "\n",
       "    .dataframe tbody tr th {\n",
       "        vertical-align: top;\n",
       "    }\n",
       "\n",
       "    .dataframe thead th {\n",
       "        text-align: right;\n",
       "    }\n",
       "</style>\n",
       "<table border=\"1\" class=\"dataframe\">\n",
       "  <thead>\n",
       "    <tr style=\"text-align: right;\">\n",
       "      <th></th>\n",
       "      <th>id</th>\n",
       "      <th>dialect</th>\n",
       "      <th>tweets</th>\n",
       "      <th>text_preprocessed</th>\n",
       "    </tr>\n",
       "  </thead>\n",
       "  <tbody>\n",
       "  </tbody>\n",
       "</table>\n",
       "</div>"
      ],
      "text/plain": [
       "Empty DataFrame\n",
       "Columns: [id, dialect, tweets, text_preprocessed]\n",
       "Index: []"
      ]
     },
     "execution_count": 14,
     "metadata": {},
     "output_type": "execute_result"
    }
   ],
   "source": [
    "df[df.isnull().any(axis=1)]"
   ]
  },
  {
   "cell_type": "code",
   "execution_count": 15,
   "metadata": {
    "ExecuteTime": {
     "end_time": "2022-03-12T01:08:09.537051Z",
     "start_time": "2022-03-12T01:08:09.472597Z"
    }
   },
   "outputs": [
    {
     "data": {
      "text/plain": [
       "EG    57636\n",
       "PL    43742\n",
       "KW    42109\n",
       "LY    36499\n",
       "QA    31069\n",
       "JO    27921\n",
       "LB    27617\n",
       "SA    26832\n",
       "AE    26296\n",
       "BH    26292\n",
       "OM    19116\n",
       "SY    16242\n",
       "DZ    16183\n",
       "IQ    15497\n",
       "SD    14434\n",
       "MA    11539\n",
       "YE     9927\n",
       "TN     9246\n",
       "Name: dialect, dtype: int64"
      ]
     },
     "execution_count": 15,
     "metadata": {},
     "output_type": "execute_result"
    }
   ],
   "source": [
    "df.dialect.value_counts()"
   ]
  },
  {
   "cell_type": "code",
   "execution_count": 16,
   "metadata": {
    "ExecuteTime": {
     "end_time": "2022-03-12T01:08:20.600445Z",
     "start_time": "2022-03-12T01:08:19.860261Z"
    }
   },
   "outputs": [
    {
     "data": {
      "text/html": [
       "<div>\n",
       "<style scoped>\n",
       "    .dataframe tbody tr th:only-of-type {\n",
       "        vertical-align: middle;\n",
       "    }\n",
       "\n",
       "    .dataframe tbody tr th {\n",
       "        vertical-align: top;\n",
       "    }\n",
       "\n",
       "    .dataframe thead th {\n",
       "        text-align: right;\n",
       "    }\n",
       "</style>\n",
       "<table border=\"1\" class=\"dataframe\">\n",
       "  <thead>\n",
       "    <tr style=\"text-align: right;\">\n",
       "      <th></th>\n",
       "      <th>id</th>\n",
       "      <th>dialect</th>\n",
       "      <th>tweets</th>\n",
       "      <th>text_preprocessed</th>\n",
       "    </tr>\n",
       "  </thead>\n",
       "  <tbody>\n",
       "    <tr>\n",
       "      <th>4458</th>\n",
       "      <td>471056235156893696</td>\n",
       "      <td>IQ</td>\n",
       "      <td>ﯤَ ﺑﺨﺖ ﺁﻟﻤﮕﺂﻥ ﻭﻣﻦ ﻫﻢ ﺣﻮﺁﻟﻴﮧ ﻭﯤَ ﺑﺨﺖ ﺍﻟﻌﻴﻮﻥ ﺍﻟﻠ...</td>\n",
       "      <td></td>\n",
       "    </tr>\n",
       "    <tr>\n",
       "      <th>4518</th>\n",
       "      <td>484922881709580288</td>\n",
       "      <td>IQ</td>\n",
       "      <td>ﻣﭐ ﻋﭑﺩ ﻟـﻲ ﺧﭑﻃـﺮ ﭐﺩﻭﺭ ﻋـﻠﭑﻗﭐﺕ .. ﻣـﭑﺑﻲ ﻋـﻠﭑﻗﺔ ...</td>\n",
       "      <td></td>\n",
       "    </tr>\n",
       "    <tr>\n",
       "      <th>5611</th>\n",
       "      <td>931628906188361600</td>\n",
       "      <td>IQ</td>\n",
       "      <td>• ﻋﻤﺮﻱ ﻣﺎ ﻓﻜﺮﺕ ﺃﺑﻴﻊ ﺍﻷﻳﺎﻡ ﺍﻟﺤﻠﻮﺓ ﺍﻟﻠﻲ ﻋﺸﺘﻬﺎ ﻣﻊ...</td>\n",
       "      <td></td>\n",
       "    </tr>\n",
       "    <tr>\n",
       "      <th>10207</th>\n",
       "      <td>1013876779579248640</td>\n",
       "      <td>IQ</td>\n",
       "      <td>@ahmedalbasheer1 والله ما ادري بصوت اياد علاوي</td>\n",
       "      <td>والله ما ادري بصوت اياد علاوي</td>\n",
       "    </tr>\n",
       "    <tr>\n",
       "      <th>10973</th>\n",
       "      <td>869464222299770880</td>\n",
       "      <td>IQ</td>\n",
       "      <td>@ert337 اااااي والله صح لسانك</td>\n",
       "      <td>اي والله صح لسانك</td>\n",
       "    </tr>\n",
       "    <tr>\n",
       "      <th>11350</th>\n",
       "      <td>535718062604161024</td>\n",
       "      <td>IQ</td>\n",
       "      <td>ﻭﻟﺞ ﺑﺴﺞ ﻳﺎ ﺩﻧﻴﺎ ﺷﻠﻮﻥ ﺍﻧﻲ ﻭﻳـﺎﺝ \\nﻳﻌﻨﻲ ﻧﻀﻞ ﺣﺮﺏ ...</td>\n",
       "      <td></td>\n",
       "    </tr>\n",
       "    <tr>\n",
       "      <th>11399</th>\n",
       "      <td>388544533224783872</td>\n",
       "      <td>IQ</td>\n",
       "      <td>ﻟﻲ ﺭﺑﻊ ﻭﺍﺧﻮﺍﻥ ﻭﺑﻨﻲ ﻋﻢ ﻭﺍﺻﺤﺎﺏ\\nﺍﻓﺨﺮ ﺑﻬﻢ ﻻ‌ﺟـﺎﺍﺕ...</td>\n",
       "      <td></td>\n",
       "    </tr>\n",
       "    <tr>\n",
       "      <th>11433</th>\n",
       "      <td>418829744407592960</td>\n",
       "      <td>IQ</td>\n",
       "      <td>ﻃﻔﻠﻪ ﻭﺍﺟﺎﻫﻪ ﺍﻟﺬﻳﺐ ﻭﺍﻟﺸﻂ ﻭﺭﺍﻫﻪ\\nﺗﺘﺮﺟﻪ ﺑﺎﻟﺒﻼ‌ﻡ ﺑ...</td>\n",
       "      <td></td>\n",
       "    </tr>\n",
       "    <tr>\n",
       "      <th>11434</th>\n",
       "      <td>418897141713874880</td>\n",
       "      <td>IQ</td>\n",
       "      <td>ﻫﺎ ﻳﻜﻠﺒﻲ ﺷﺒﻴﻚ ﺻﺎﻓﻦ؟؟ ﻣﺎﺗﻨﺎﻡ\\nﻣﻮ ﻛﻠﺘﻠﻚ ﻻ‌ﺗﺠﻲ ﺑﺪ...</td>\n",
       "      <td></td>\n",
       "    </tr>\n",
       "    <tr>\n",
       "      <th>11452</th>\n",
       "      <td>428969456648589312</td>\n",
       "      <td>IQ</td>\n",
       "      <td>ﺣﻴﻞ ﺍﺗﻌﺬﺑﺖ ﺑﺲ ﺍﻧﺖَ ﻣــﺎ ﺣﺴﻴﺖ\\nﻻﻥ ﺑﻨﺎﺭ ﮔﻠﺒﻲ ﻭﮔﻠ...</td>\n",
       "      <td></td>\n",
       "    </tr>\n",
       "    <tr>\n",
       "      <th>14196</th>\n",
       "      <td>1116083073697878016</td>\n",
       "      <td>IQ</td>\n",
       "      <td>ﻣﺎﻟﻲ ﻉ ﻋﻘﻞ ﺍﻟﻤﺨﺎﻟﻴﻖ ﺳﻠﻄﺎﻥ  ﻛﻠﻦ ﻓﻲ ﺭﺍﺳﻪ ﻋﻘﻞ ﻳﻌﺮ...</td>\n",
       "      <td></td>\n",
       "    </tr>\n",
       "    <tr>\n",
       "      <th>18586</th>\n",
       "      <td>785954733043441664</td>\n",
       "      <td>LY</td>\n",
       "      <td>ﺑﺘﻌﺮﻑ ﻃﻌﻨﺘﮓ ﻭﻳﻦ ﺻﺎﺁﺑﺖ !'~ ﺑﺎﻟﻤﻜﺎﺁﻥ ﺍﻟﻠﻲ ﻗﻠﺘﻠﮓ ...</td>\n",
       "      <td></td>\n",
       "    </tr>\n",
       "    <tr>\n",
       "      <th>18587</th>\n",
       "      <td>791245441480462336</td>\n",
       "      <td>LY</td>\n",
       "      <td>ٲﻧـﺂ ﻡَ ٲﺧﺬﻟـﻚ ﻡَ ٲﺟﺮﺣـﻚ ﻡَ ٲﻛﺴﺮﻙ ﺗِﻄﻤﻨﻦ ٲﻧـﺂ ...</td>\n",
       "      <td></td>\n",
       "    </tr>\n",
       "    <tr>\n",
       "      <th>18608</th>\n",
       "      <td>895400665467564032</td>\n",
       "      <td>LY</td>\n",
       "      <td>ﺃﻭﻗﺎﺕ ﻧﺒﻘﻲ ﺭﺍﻳﻖ ﻭﺃﻭﻗﺎﺕ ﻣﻦ ﻧﺴﻤﻪ ﻫﻮﺍﺀ ﻧﻀﺎﻳﻖ\\nﻭﺃﻭ...</td>\n",
       "      <td></td>\n",
       "    </tr>\n",
       "    <tr>\n",
       "      <th>19453</th>\n",
       "      <td>1138195713089835008</td>\n",
       "      <td>LY</td>\n",
       "      <td>@maiiomaraskar أنا مهما كبرت صغير 😁 https://t....</td>\n",
       "      <td>انا مهما كبرت صغير</td>\n",
       "    </tr>\n",
       "    <tr>\n",
       "      <th>20665</th>\n",
       "      <td>1164975083506548736</td>\n",
       "      <td>LY</td>\n",
       "      <td>@Mahmod_ji الله يبارك فيك ياحوده ياصقع</td>\n",
       "      <td>الله يبارك فيك ياحوده ياصقع</td>\n",
       "    </tr>\n",
       "    <tr>\n",
       "      <th>21288</th>\n",
       "      <td>1137851453731680384</td>\n",
       "      <td>LY</td>\n",
       "      <td>ههههههههههههه تي شن في https://t.co/GSND4BokZ2</td>\n",
       "      <td>ه تي شن في</td>\n",
       "    </tr>\n",
       "    <tr>\n",
       "      <th>22372</th>\n",
       "      <td>1002229393442340864</td>\n",
       "      <td>LY</td>\n",
       "      <td>ﺻﺎﻳﻢ ﺍﻟﻴﻮﻡ ﺑﻼﻫﻢ..\\nﻳﺎﻟﻠﻪ ﺻﺒﺮﻧﻲ ﻋﻠﻲ ﻓﺮﻗﺎﻫﻢ..\\nﺍ...</td>\n",
       "      <td></td>\n",
       "    </tr>\n",
       "    <tr>\n",
       "      <th>23495</th>\n",
       "      <td>961260217689354240</td>\n",
       "      <td>LY</td>\n",
       "      <td>حتى والخاطر مخنوق ..يشم هوا صبراتة يروق</td>\n",
       "      <td>حتي والخاطر مخنوق يشم هوا صبراته يروق</td>\n",
       "    </tr>\n",
       "    <tr>\n",
       "      <th>23903</th>\n",
       "      <td>1039265288846487552</td>\n",
       "      <td>LY</td>\n",
       "      <td>ﺍﻣﻐﻴﺮ ﺭﻳﺢ ﺯﻭﺗﻬﺎ ﻗﻴﺴﻬﺎ ﻣﻨﻜﻮﺑﻪ \\nﺟﺖ ﻃﺎﻳﺤﻪ ﻭﻳﻦ ﻣﺎ...</td>\n",
       "      <td></td>\n",
       "    </tr>\n",
       "    <tr>\n",
       "      <th>24414</th>\n",
       "      <td>1009788347064242176</td>\n",
       "      <td>LY</td>\n",
       "      <td>ﻫﻔﺘﺮ ﻧﺎﺭ ﻭﺍﻟﺠﻀﺮﺍﻥ ﻫﻮﻣﺎﺭ\\nﻫﻔﺘﺮ ﻧﺎﺭ ﻭﺍﻟﺠﻀﺮﺍﻥ ﻫﻮﻣ...</td>\n",
       "      <td></td>\n",
       "    </tr>\n",
       "    <tr>\n",
       "      <th>26894</th>\n",
       "      <td>1029503507802599424</td>\n",
       "      <td>LY</td>\n",
       "      <td>ههههههههه لازم تحرجونا يعني https://t.co/nre6x...</td>\n",
       "      <td>ه لازم تحرجونا يعني</td>\n",
       "    </tr>\n",
       "    <tr>\n",
       "      <th>32409</th>\n",
       "      <td>664166810846105600</td>\n",
       "      <td>LY</td>\n",
       "      <td>@girllibya4  أجرك حاصل ان شاء الله 😀</td>\n",
       "      <td>اجرك حاصل ان شاء الله</td>\n",
       "    </tr>\n",
       "    <tr>\n",
       "      <th>32455</th>\n",
       "      <td>621851675402354688</td>\n",
       "      <td>LY</td>\n",
       "      <td>ﺃﺻَﺨْﺮَﺓٌ ﺃﻧَﺎ، ﻣﺎ ﻟﻲ ﻻ ﺗُﺤَﺮّﻛُﻨﻲ .. ﻫَﺬِﻱ ﺍﻟ...</td>\n",
       "      <td></td>\n",
       "    </tr>\n",
       "    <tr>\n",
       "      <th>33011</th>\n",
       "      <td>552151208241414080</td>\n",
       "      <td>LY</td>\n",
       "      <td>ﺃﻧْـﺂﺁ ﻣﻦْ ﺁﻟُﻨْـﺂﺁﺱ ﺁﻟُﻠُﻲَ ... ؟ﺁﻧْﻄُـﻠُﻊ ﮔﻞ...</td>\n",
       "      <td></td>\n",
       "    </tr>\n",
       "    <tr>\n",
       "      <th>33021</th>\n",
       "      <td>554320626652299264</td>\n",
       "      <td>LY</td>\n",
       "      <td>ﻧﺒﻲ ﺍﻟﻠﻲ ﻳﺨﺘﺎﺭ ﻓﻲ ﻣﺬﻳﻌﺎﺕ ﻗﻨﻮﺍﺕ #ﺍﻟﻌﺮﺑﻴﻪ\\n#ﻳﺨﻄﺒ...</td>\n",
       "      <td></td>\n",
       "    </tr>\n",
       "    <tr>\n",
       "      <th>33194</th>\n",
       "      <td>484844075955552256</td>\n",
       "      <td>LY</td>\n",
       "      <td>@amouna19alg ﺻﺢ ﻗﺘﻠﻨﺎﻩ ﺑﻌﺪ ﻗﺎﻟﻬﺎ ..ﻣﺶ ﺍﻧﺘﻮﻭ\\nﻋ...</td>\n",
       "      <td></td>\n",
       "    </tr>\n",
       "    <tr>\n",
       "      <th>37062</th>\n",
       "      <td>437196298077634560</td>\n",
       "      <td>LY</td>\n",
       "      <td>بيك نعيش و بيك نحيااا .. http://t.co/RIb9QOmX6a</td>\n",
       "      <td>بيك نعيش و بيك نحيا</td>\n",
       "    </tr>\n",
       "    <tr>\n",
       "      <th>37190</th>\n",
       "      <td>361121142636941312</td>\n",
       "      <td>LY</td>\n",
       "      <td>ﻗﺮﻳﺒﺎً ﻓﻲ ﺍﻟﻌﻴﺪ!\\n\\nﻟﻤﺎ ﺗﻜﻮﻥ ﻋﻨﺪ ﻧﺎﺱ\\n\\nﻭ ﻳﻘﺪﻣ...</td>\n",
       "      <td></td>\n",
       "    </tr>\n",
       "    <tr>\n",
       "      <th>37216</th>\n",
       "      <td>397739608370581504</td>\n",
       "      <td>LY</td>\n",
       "      <td>ﺣﻮﺍﺭ ﻓﻲ ﻛﻞ ﻓﻴﻠﻢ ﻣﺼﺮﻱ\\nﻃﻴﺐ ﻳﻠﻠﻲ ﺑﺘﺨﺒﻂ ﺃﻧﺎ ﺟﺎﻳﻪ\\...</td>\n",
       "      <td>و</td>\n",
       "    </tr>\n",
       "    <tr>\n",
       "      <th>...</th>\n",
       "      <td>...</td>\n",
       "      <td>...</td>\n",
       "      <td>...</td>\n",
       "      <td>...</td>\n",
       "    </tr>\n",
       "    <tr>\n",
       "      <th>452614</th>\n",
       "      <td>686441690316537856</td>\n",
       "      <td>BH</td>\n",
       "      <td>روووحي بلقاك تفز فزة حمامه\\n\\n🐥🐥</td>\n",
       "      <td>روحي بلقاك تفز فزه حمامه</td>\n",
       "    </tr>\n",
       "    <tr>\n",
       "      <th>454327</th>\n",
       "      <td>1016880057518829568</td>\n",
       "      <td>BH</td>\n",
       "      <td>@baderqadsia16 @mr_racing3000 الله يشافيها ويط...</td>\n",
       "      <td>الله يشافيها ويطمنكم عليها</td>\n",
       "    </tr>\n",
       "    <tr>\n",
       "      <th>454345</th>\n",
       "      <td>1052619553816104960</td>\n",
       "      <td>BH</td>\n",
       "      <td>@baderqadsia16 الله يشافيها ويلبسها لباس العافية</td>\n",
       "      <td>الله يشافيها ويلبسها لباس العافيه</td>\n",
       "    </tr>\n",
       "    <tr>\n",
       "      <th>454856</th>\n",
       "      <td>879919120338358272</td>\n",
       "      <td>BH</td>\n",
       "      <td>@bualialaradi دا انجليزي دا يا مرسي ؟ @HassanE...</td>\n",
       "      <td>دا انجليزي دا يا مرسي</td>\n",
       "    </tr>\n",
       "    <tr>\n",
       "      <th>454965</th>\n",
       "      <td>673759660936155136</td>\n",
       "      <td>BH</td>\n",
       "      <td>#الجو_مو_مال_دوام.</td>\n",
       "      <td>الجو مو مال دوام</td>\n",
       "    </tr>\n",
       "    <tr>\n",
       "      <th>455326</th>\n",
       "      <td>1010676588239900800</td>\n",
       "      <td>BH</td>\n",
       "      <td>مالك نهايه فيني كل يوم ارجع ابتديك💛</td>\n",
       "      <td>مالك نهايه فيني كل يوم ارجع ابتديك</td>\n",
       "    </tr>\n",
       "    <tr>\n",
       "      <th>455334</th>\n",
       "      <td>414436802825842688</td>\n",
       "      <td>BH</td>\n",
       "      <td>حد شيـن و حـد متـزّين،وحد فتنھہ #للعرب شوفھہ ،...</td>\n",
       "      <td>حد شين و حد متزين وحد فتن للعرب شوف و حد مال ش...</td>\n",
       "    </tr>\n",
       "    <tr>\n",
       "      <th>455375</th>\n",
       "      <td>898878563285389312</td>\n",
       "      <td>BH</td>\n",
       "      <td>حافظك ربي في خفا قلبي عمر</td>\n",
       "      <td>حافظك ربي في خفا قلبي عمر</td>\n",
       "    </tr>\n",
       "    <tr>\n",
       "      <th>456016</th>\n",
       "      <td>951100418653933568</td>\n",
       "      <td>BH</td>\n",
       "      <td>🔴عزيزي المواطن :                              ...</td>\n",
       "      <td>عزيزي المواطن ولا خلاص اللي فيك مكفيك</td>\n",
       "    </tr>\n",
       "    <tr>\n",
       "      <th>456024</th>\n",
       "      <td>1077547591141867648</td>\n",
       "      <td>BH</td>\n",
       "      <td>@mbuyabis @YouthKuwait خيره ان شاء الله</td>\n",
       "      <td>خيره ان شاء الله</td>\n",
       "    </tr>\n",
       "    <tr>\n",
       "      <th>456047</th>\n",
       "      <td>712590881132556288</td>\n",
       "      <td>BH</td>\n",
       "      <td>لا تلوم الحظ يوم الحظ خانك\\nالحظوظ أرزاق مافيه...</td>\n",
       "      <td>لا تلوم الحظ يوم الحظ خانك الحظوظ ارزاق مافيها...</td>\n",
       "    </tr>\n",
       "    <tr>\n",
       "      <th>456077</th>\n",
       "      <td>905864965952872448</td>\n",
       "      <td>BH</td>\n",
       "      <td>@AliNajim @Sary_q8 الله يشفيه ويقومه بالسلامه</td>\n",
       "      <td>الله يشفيه ويقومه بالسلامه</td>\n",
       "    </tr>\n",
       "    <tr>\n",
       "      <th>456454</th>\n",
       "      <td>1136272411890987008</td>\n",
       "      <td>BH</td>\n",
       "      <td>سبب عدم حضور الأشخاص لبعض\\nالمناسبات لا يكون ل...</td>\n",
       "      <td>سبب عدم حضور الاشخاص لبعض المناسبات لا يكون لا...</td>\n",
       "    </tr>\n",
       "    <tr>\n",
       "      <th>456489</th>\n",
       "      <td>889372184791142400</td>\n",
       "      <td>BH</td>\n",
       "      <td>جعلني لآ عشت عايش على ستر وغناه\\nمكتفي ما لي و...</td>\n",
       "      <td>جعلني لا عشت عايش علي ستر وغناه مكتفي ما لي ور...</td>\n",
       "    </tr>\n",
       "    <tr>\n",
       "      <th>456636</th>\n",
       "      <td>1008597240389267584</td>\n",
       "      <td>BH</td>\n",
       "      <td>أحبك كثر ما غفت \\nعيني و هي تتخيلك💙 https://t....</td>\n",
       "      <td>احبك كثر ما غفت عيني و هي تتخيلك</td>\n",
       "    </tr>\n",
       "    <tr>\n",
       "      <th>456656</th>\n",
       "      <td>1016208888486645760</td>\n",
       "      <td>BH</td>\n",
       "      <td>اللي على صوتك يغمض عيونه\\nتأكد انه راح يصبح عل...</td>\n",
       "      <td>اللي علي صوتك يغمض عيونه تاكد انه راح يصبح علي...</td>\n",
       "    </tr>\n",
       "    <tr>\n",
       "      <th>456714</th>\n",
       "      <td>999446312587353984</td>\n",
       "      <td>BH</td>\n",
       "      <td>ليت اللقى يمشي على الكيف والقاك\\nوليت اللقى ما...</td>\n",
       "      <td>ليت اللقي يمشي علي الكيف والقاك وليت اللقي ما ...</td>\n",
       "    </tr>\n",
       "    <tr>\n",
       "      <th>456791</th>\n",
       "      <td>984701982366732416</td>\n",
       "      <td>BH</td>\n",
       "      <td>•\\n•\\nﻟﻮ ﻏﺒﺖ ﻣﺎﻏﺎﺏ ﻃﻴﻔﻚ ﻋﻨﻲ ﻭﻃﺎﺭﻳﻚ\\nﻛﻨﻚ ﻣﻌﻲ ﻓﻲ...</td>\n",
       "      <td>ه</td>\n",
       "    </tr>\n",
       "    <tr>\n",
       "      <th>456817</th>\n",
       "      <td>1011623447263314048</td>\n",
       "      <td>BH</td>\n",
       "      <td>أنت الأبـد ، أنت اللي ما بعدك أحد ..♥️ https:/...</td>\n",
       "      <td>انت الابد انت اللي ما بعدك احد</td>\n",
       "    </tr>\n",
       "    <tr>\n",
       "      <th>456888</th>\n",
       "      <td>909483419926716416</td>\n",
       "      <td>BH</td>\n",
       "      <td>معآك أحس الرضا محتويني \\nليتك من بدايات عُمري ...</td>\n",
       "      <td>معاك احس الرضا محتويني ليتك من بدايات عمري عرفتك</td>\n",
       "    </tr>\n",
       "    <tr>\n",
       "      <th>456897</th>\n",
       "      <td>930170364965150848</td>\n",
       "      <td>BH</td>\n",
       "      <td>كل ماكتبت أبيات فيها غزل لك..\\nقامت عروق الشوق...</td>\n",
       "      <td>كل ماكتبت ابيات فيها غزل لك قامت عروق الشوق لج...</td>\n",
       "    </tr>\n",
       "    <tr>\n",
       "      <th>456909</th>\n",
       "      <td>982978135619702784</td>\n",
       "      <td>BH</td>\n",
       "      <td>إنخلق حبك فيني بدون لقى ولمة إيدين 👫❤ https://...</td>\n",
       "      <td>انخلق حبك فيني بدون لقي ولمه ايدين</td>\n",
       "    </tr>\n",
       "    <tr>\n",
       "      <th>456913</th>\n",
       "      <td>991998464191074432</td>\n",
       "      <td>BH</td>\n",
       "      <td>انا ابوس قلبي الف مره لانه اختارك انت 💘</td>\n",
       "      <td>انا ابوس قلبي الف مره لانه اختارك انت</td>\n",
       "    </tr>\n",
       "    <tr>\n",
       "      <th>457024</th>\n",
       "      <td>759820288598999040</td>\n",
       "      <td>BH</td>\n",
       "      <td>البسمة اللّي ترحب بي وأنا مقبل\\nيا جعلني ماخلا...</td>\n",
       "      <td>البسمه اللي ترحب بي وانا مقبل يا جعلني ماخلا م...</td>\n",
       "    </tr>\n",
       "    <tr>\n",
       "      <th>457026</th>\n",
       "      <td>759821600745140224</td>\n",
       "      <td>BH</td>\n",
       "      <td>لو ابي غيرك ترا حولي كثير !!\\nبس قلبي ما يفز ،...</td>\n",
       "      <td>لو ابي غيرك ترا حولي كثير بس قلبي ما يفز لكل عابر</td>\n",
       "    </tr>\n",
       "    <tr>\n",
       "      <th>457272</th>\n",
       "      <td>647664319757291520</td>\n",
       "      <td>BH</td>\n",
       "      <td>ﺍﻟﺸﻮﻕ ﻣﺂ ﻳﺮﺣﻢ ﻭﻵ‌ ﻓﻴﻪ ( ﺣﻴﻠـﻪ ) ﻵ‌ ﺟﺂﻙ ﻣﺂ ﻳﻘﺒﻞ...</td>\n",
       "      <td></td>\n",
       "    </tr>\n",
       "    <tr>\n",
       "      <th>457354</th>\n",
       "      <td>1165677510052458496</td>\n",
       "      <td>BH</td>\n",
       "      <td>@OptaJose @magicalcantara @Brazzo الضرب في الم...</td>\n",
       "      <td>الضرب في الميت حرام</td>\n",
       "    </tr>\n",
       "    <tr>\n",
       "      <th>457649</th>\n",
       "      <td>1109086987464704000</td>\n",
       "      <td>BH</td>\n",
       "      <td>ودي أصدق بس قوية قوية https://t.co/DZ4rhm4gfZ</td>\n",
       "      <td>ودي اصدق بس قويه قويه</td>\n",
       "    </tr>\n",
       "    <tr>\n",
       "      <th>457711</th>\n",
       "      <td>1124366193022972032</td>\n",
       "      <td>BH</td>\n",
       "      <td>@Rizk263 ايه الي بيحصل ده</td>\n",
       "      <td>ايه الي بيحصل ده</td>\n",
       "    </tr>\n",
       "    <tr>\n",
       "      <th>458022</th>\n",
       "      <td>1035117167283527552</td>\n",
       "      <td>BH</td>\n",
       "      <td>@KokyKoty60 الله يخليكم لبعض يااااارب</td>\n",
       "      <td>الله يخليكم لبعض يارب</td>\n",
       "    </tr>\n",
       "  </tbody>\n",
       "</table>\n",
       "<p>1043 rows × 4 columns</p>\n",
       "</div>"
      ],
      "text/plain": [
       "                         id dialect  \\\n",
       "4458     471056235156893696      IQ   \n",
       "4518     484922881709580288      IQ   \n",
       "5611     931628906188361600      IQ   \n",
       "10207   1013876779579248640      IQ   \n",
       "10973    869464222299770880      IQ   \n",
       "11350    535718062604161024      IQ   \n",
       "11399    388544533224783872      IQ   \n",
       "11433    418829744407592960      IQ   \n",
       "11434    418897141713874880      IQ   \n",
       "11452    428969456648589312      IQ   \n",
       "14196   1116083073697878016      IQ   \n",
       "18586    785954733043441664      LY   \n",
       "18587    791245441480462336      LY   \n",
       "18608    895400665467564032      LY   \n",
       "19453   1138195713089835008      LY   \n",
       "20665   1164975083506548736      LY   \n",
       "21288   1137851453731680384      LY   \n",
       "22372   1002229393442340864      LY   \n",
       "23495    961260217689354240      LY   \n",
       "23903   1039265288846487552      LY   \n",
       "24414   1009788347064242176      LY   \n",
       "26894   1029503507802599424      LY   \n",
       "32409    664166810846105600      LY   \n",
       "32455    621851675402354688      LY   \n",
       "33011    552151208241414080      LY   \n",
       "33021    554320626652299264      LY   \n",
       "33194    484844075955552256      LY   \n",
       "37062    437196298077634560      LY   \n",
       "37190    361121142636941312      LY   \n",
       "37216    397739608370581504      LY   \n",
       "...                     ...     ...   \n",
       "452614   686441690316537856      BH   \n",
       "454327  1016880057518829568      BH   \n",
       "454345  1052619553816104960      BH   \n",
       "454856   879919120338358272      BH   \n",
       "454965   673759660936155136      BH   \n",
       "455326  1010676588239900800      BH   \n",
       "455334   414436802825842688      BH   \n",
       "455375   898878563285389312      BH   \n",
       "456016   951100418653933568      BH   \n",
       "456024  1077547591141867648      BH   \n",
       "456047   712590881132556288      BH   \n",
       "456077   905864965952872448      BH   \n",
       "456454  1136272411890987008      BH   \n",
       "456489   889372184791142400      BH   \n",
       "456636  1008597240389267584      BH   \n",
       "456656  1016208888486645760      BH   \n",
       "456714   999446312587353984      BH   \n",
       "456791   984701982366732416      BH   \n",
       "456817  1011623447263314048      BH   \n",
       "456888   909483419926716416      BH   \n",
       "456897   930170364965150848      BH   \n",
       "456909   982978135619702784      BH   \n",
       "456913   991998464191074432      BH   \n",
       "457024   759820288598999040      BH   \n",
       "457026   759821600745140224      BH   \n",
       "457272   647664319757291520      BH   \n",
       "457354  1165677510052458496      BH   \n",
       "457649  1109086987464704000      BH   \n",
       "457711  1124366193022972032      BH   \n",
       "458022  1035117167283527552      BH   \n",
       "\n",
       "                                                   tweets  \\\n",
       "4458    ﯤَ ﺑﺨﺖ ﺁﻟﻤﮕﺂﻥ ﻭﻣﻦ ﻫﻢ ﺣﻮﺁﻟﻴﮧ ﻭﯤَ ﺑﺨﺖ ﺍﻟﻌﻴﻮﻥ ﺍﻟﻠ...   \n",
       "4518    ﻣﭐ ﻋﭑﺩ ﻟـﻲ ﺧﭑﻃـﺮ ﭐﺩﻭﺭ ﻋـﻠﭑﻗﭐﺕ .. ﻣـﭑﺑﻲ ﻋـﻠﭑﻗﺔ ...   \n",
       "5611    • ﻋﻤﺮﻱ ﻣﺎ ﻓﻜﺮﺕ ﺃﺑﻴﻊ ﺍﻷﻳﺎﻡ ﺍﻟﺤﻠﻮﺓ ﺍﻟﻠﻲ ﻋﺸﺘﻬﺎ ﻣﻊ...   \n",
       "10207      @ahmedalbasheer1 والله ما ادري بصوت اياد علاوي   \n",
       "10973                       @ert337 اااااي والله صح لسانك   \n",
       "11350   ﻭﻟﺞ ﺑﺴﺞ ﻳﺎ ﺩﻧﻴﺎ ﺷﻠﻮﻥ ﺍﻧﻲ ﻭﻳـﺎﺝ \\nﻳﻌﻨﻲ ﻧﻀﻞ ﺣﺮﺏ ...   \n",
       "11399   ﻟﻲ ﺭﺑﻊ ﻭﺍﺧﻮﺍﻥ ﻭﺑﻨﻲ ﻋﻢ ﻭﺍﺻﺤﺎﺏ\\nﺍﻓﺨﺮ ﺑﻬﻢ ﻻ‌ﺟـﺎﺍﺕ...   \n",
       "11433   ﻃﻔﻠﻪ ﻭﺍﺟﺎﻫﻪ ﺍﻟﺬﻳﺐ ﻭﺍﻟﺸﻂ ﻭﺭﺍﻫﻪ\\nﺗﺘﺮﺟﻪ ﺑﺎﻟﺒﻼ‌ﻡ ﺑ...   \n",
       "11434   ﻫﺎ ﻳﻜﻠﺒﻲ ﺷﺒﻴﻚ ﺻﺎﻓﻦ؟؟ ﻣﺎﺗﻨﺎﻡ\\nﻣﻮ ﻛﻠﺘﻠﻚ ﻻ‌ﺗﺠﻲ ﺑﺪ...   \n",
       "11452   ﺣﻴﻞ ﺍﺗﻌﺬﺑﺖ ﺑﺲ ﺍﻧﺖَ ﻣــﺎ ﺣﺴﻴﺖ\\nﻻﻥ ﺑﻨﺎﺭ ﮔﻠﺒﻲ ﻭﮔﻠ...   \n",
       "14196   ﻣﺎﻟﻲ ﻉ ﻋﻘﻞ ﺍﻟﻤﺨﺎﻟﻴﻖ ﺳﻠﻄﺎﻥ  ﻛﻠﻦ ﻓﻲ ﺭﺍﺳﻪ ﻋﻘﻞ ﻳﻌﺮ...   \n",
       "18586   ﺑﺘﻌﺮﻑ ﻃﻌﻨﺘﮓ ﻭﻳﻦ ﺻﺎﺁﺑﺖ !'~ ﺑﺎﻟﻤﻜﺎﺁﻥ ﺍﻟﻠﻲ ﻗﻠﺘﻠﮓ ...   \n",
       "18587   ٲﻧـﺂ ﻡَ ٲﺧﺬﻟـﻚ ﻡَ ٲﺟﺮﺣـﻚ ﻡَ ٲﻛﺴﺮﻙ ﺗِﻄﻤﻨﻦ ٲﻧـﺂ ...   \n",
       "18608   ﺃﻭﻗﺎﺕ ﻧﺒﻘﻲ ﺭﺍﻳﻖ ﻭﺃﻭﻗﺎﺕ ﻣﻦ ﻧﺴﻤﻪ ﻫﻮﺍﺀ ﻧﻀﺎﻳﻖ\\nﻭﺃﻭ...   \n",
       "19453   @maiiomaraskar أنا مهما كبرت صغير 😁 https://t....   \n",
       "20665              @Mahmod_ji الله يبارك فيك ياحوده ياصقع   \n",
       "21288      ههههههههههههه تي شن في https://t.co/GSND4BokZ2   \n",
       "22372   ﺻﺎﻳﻢ ﺍﻟﻴﻮﻡ ﺑﻼﻫﻢ..\\nﻳﺎﻟﻠﻪ ﺻﺒﺮﻧﻲ ﻋﻠﻲ ﻓﺮﻗﺎﻫﻢ..\\nﺍ...   \n",
       "23495             حتى والخاطر مخنوق ..يشم هوا صبراتة يروق   \n",
       "23903   ﺍﻣﻐﻴﺮ ﺭﻳﺢ ﺯﻭﺗﻬﺎ ﻗﻴﺴﻬﺎ ﻣﻨﻜﻮﺑﻪ \\nﺟﺖ ﻃﺎﻳﺤﻪ ﻭﻳﻦ ﻣﺎ...   \n",
       "24414   ﻫﻔﺘﺮ ﻧﺎﺭ ﻭﺍﻟﺠﻀﺮﺍﻥ ﻫﻮﻣﺎﺭ\\nﻫﻔﺘﺮ ﻧﺎﺭ ﻭﺍﻟﺠﻀﺮﺍﻥ ﻫﻮﻣ...   \n",
       "26894   ههههههههه لازم تحرجونا يعني https://t.co/nre6x...   \n",
       "32409                @girllibya4  أجرك حاصل ان شاء الله 😀   \n",
       "32455   ﺃﺻَﺨْﺮَﺓٌ ﺃﻧَﺎ، ﻣﺎ ﻟﻲ ﻻ ﺗُﺤَﺮّﻛُﻨﻲ .. ﻫَﺬِﻱ ﺍﻟ...   \n",
       "33011   ﺃﻧْـﺂﺁ ﻣﻦْ ﺁﻟُﻨْـﺂﺁﺱ ﺁﻟُﻠُﻲَ ... ؟ﺁﻧْﻄُـﻠُﻊ ﮔﻞ...   \n",
       "33021   ﻧﺒﻲ ﺍﻟﻠﻲ ﻳﺨﺘﺎﺭ ﻓﻲ ﻣﺬﻳﻌﺎﺕ ﻗﻨﻮﺍﺕ #ﺍﻟﻌﺮﺑﻴﻪ\\n#ﻳﺨﻄﺒ...   \n",
       "33194   @amouna19alg ﺻﺢ ﻗﺘﻠﻨﺎﻩ ﺑﻌﺪ ﻗﺎﻟﻬﺎ ..ﻣﺶ ﺍﻧﺘﻮﻭ\\nﻋ...   \n",
       "37062     بيك نعيش و بيك نحيااا .. http://t.co/RIb9QOmX6a   \n",
       "37190   ﻗﺮﻳﺒﺎً ﻓﻲ ﺍﻟﻌﻴﺪ!\\n\\nﻟﻤﺎ ﺗﻜﻮﻥ ﻋﻨﺪ ﻧﺎﺱ\\n\\nﻭ ﻳﻘﺪﻣ...   \n",
       "37216   ﺣﻮﺍﺭ ﻓﻲ ﻛﻞ ﻓﻴﻠﻢ ﻣﺼﺮﻱ\\nﻃﻴﺐ ﻳﻠﻠﻲ ﺑﺘﺨﺒﻂ ﺃﻧﺎ ﺟﺎﻳﻪ\\...   \n",
       "...                                                   ...   \n",
       "452614                   روووحي بلقاك تفز فزة حمامه\\n\\n🐥🐥   \n",
       "454327  @baderqadsia16 @mr_racing3000 الله يشافيها ويط...   \n",
       "454345   @baderqadsia16 الله يشافيها ويلبسها لباس العافية   \n",
       "454856  @bualialaradi دا انجليزي دا يا مرسي ؟ @HassanE...   \n",
       "454965                                 #الجو_مو_مال_دوام.   \n",
       "455326                مالك نهايه فيني كل يوم ارجع ابتديك💛   \n",
       "455334  حد شيـن و حـد متـزّين،وحد فتنھہ #للعرب شوفھہ ،...   \n",
       "455375                          حافظك ربي في خفا قلبي عمر   \n",
       "456016  🔴عزيزي المواطن :                              ...   \n",
       "456024            @mbuyabis @YouthKuwait خيره ان شاء الله   \n",
       "456047  لا تلوم الحظ يوم الحظ خانك\\nالحظوظ أرزاق مافيه...   \n",
       "456077      @AliNajim @Sary_q8 الله يشفيه ويقومه بالسلامه   \n",
       "456454  سبب عدم حضور الأشخاص لبعض\\nالمناسبات لا يكون ل...   \n",
       "456489  جعلني لآ عشت عايش على ستر وغناه\\nمكتفي ما لي و...   \n",
       "456636  أحبك كثر ما غفت \\nعيني و هي تتخيلك💙 https://t....   \n",
       "456656  اللي على صوتك يغمض عيونه\\nتأكد انه راح يصبح عل...   \n",
       "456714  ليت اللقى يمشي على الكيف والقاك\\nوليت اللقى ما...   \n",
       "456791  •\\n•\\nﻟﻮ ﻏﺒﺖ ﻣﺎﻏﺎﺏ ﻃﻴﻔﻚ ﻋﻨﻲ ﻭﻃﺎﺭﻳﻚ\\nﻛﻨﻚ ﻣﻌﻲ ﻓﻲ...   \n",
       "456817  أنت الأبـد ، أنت اللي ما بعدك أحد ..♥️ https:/...   \n",
       "456888  معآك أحس الرضا محتويني \\nليتك من بدايات عُمري ...   \n",
       "456897  كل ماكتبت أبيات فيها غزل لك..\\nقامت عروق الشوق...   \n",
       "456909  إنخلق حبك فيني بدون لقى ولمة إيدين 👫❤ https://...   \n",
       "456913            انا ابوس قلبي الف مره لانه اختارك انت 💘   \n",
       "457024  البسمة اللّي ترحب بي وأنا مقبل\\nيا جعلني ماخلا...   \n",
       "457026  لو ابي غيرك ترا حولي كثير !!\\nبس قلبي ما يفز ،...   \n",
       "457272  ﺍﻟﺸﻮﻕ ﻣﺂ ﻳﺮﺣﻢ ﻭﻵ‌ ﻓﻴﻪ ( ﺣﻴﻠـﻪ ) ﻵ‌ ﺟﺂﻙ ﻣﺂ ﻳﻘﺒﻞ...   \n",
       "457354  @OptaJose @magicalcantara @Brazzo الضرب في الم...   \n",
       "457649      ودي أصدق بس قوية قوية https://t.co/DZ4rhm4gfZ   \n",
       "457711                          @Rizk263 ايه الي بيحصل ده   \n",
       "458022              @KokyKoty60 الله يخليكم لبعض يااااارب   \n",
       "\n",
       "                                        text_preprocessed  \n",
       "4458                                                       \n",
       "4518                                                       \n",
       "5611                                                       \n",
       "10207                       والله ما ادري بصوت اياد علاوي  \n",
       "10973                                   اي والله صح لسانك  \n",
       "11350                                                      \n",
       "11399                                                      \n",
       "11433                                                      \n",
       "11434                                                      \n",
       "11452                                                      \n",
       "14196                                                      \n",
       "18586                                                      \n",
       "18587                                                      \n",
       "18608                                                      \n",
       "19453                                  انا مهما كبرت صغير  \n",
       "20665                         الله يبارك فيك ياحوده ياصقع  \n",
       "21288                                          ه تي شن في  \n",
       "22372                                                      \n",
       "23495               حتي والخاطر مخنوق يشم هوا صبراته يروق  \n",
       "23903                                                      \n",
       "24414                                                      \n",
       "26894                                 ه لازم تحرجونا يعني  \n",
       "32409                               اجرك حاصل ان شاء الله  \n",
       "32455                                                      \n",
       "33011                                                      \n",
       "33021                                                      \n",
       "33194                                                      \n",
       "37062                                 بيك نعيش و بيك نحيا  \n",
       "37190                                                      \n",
       "37216                                                   و  \n",
       "...                                                   ...  \n",
       "452614                           روحي بلقاك تفز فزه حمامه  \n",
       "454327                         الله يشافيها ويطمنكم عليها  \n",
       "454345                  الله يشافيها ويلبسها لباس العافيه  \n",
       "454856                              دا انجليزي دا يا مرسي  \n",
       "454965                                   الجو مو مال دوام  \n",
       "455326                 مالك نهايه فيني كل يوم ارجع ابتديك  \n",
       "455334  حد شين و حد متزين وحد فتن للعرب شوف و حد مال ش...  \n",
       "455375                          حافظك ربي في خفا قلبي عمر  \n",
       "456016              عزيزي المواطن ولا خلاص اللي فيك مكفيك  \n",
       "456024                                   خيره ان شاء الله  \n",
       "456047  لا تلوم الحظ يوم الحظ خانك الحظوظ ارزاق مافيها...  \n",
       "456077                         الله يشفيه ويقومه بالسلامه  \n",
       "456454  سبب عدم حضور الاشخاص لبعض المناسبات لا يكون لا...  \n",
       "456489  جعلني لا عشت عايش علي ستر وغناه مكتفي ما لي ور...  \n",
       "456636                   احبك كثر ما غفت عيني و هي تتخيلك  \n",
       "456656  اللي علي صوتك يغمض عيونه تاكد انه راح يصبح علي...  \n",
       "456714  ليت اللقي يمشي علي الكيف والقاك وليت اللقي ما ...  \n",
       "456791                                                  ه  \n",
       "456817                     انت الابد انت اللي ما بعدك احد  \n",
       "456888   معاك احس الرضا محتويني ليتك من بدايات عمري عرفتك  \n",
       "456897  كل ماكتبت ابيات فيها غزل لك قامت عروق الشوق لج...  \n",
       "456909                 انخلق حبك فيني بدون لقي ولمه ايدين  \n",
       "456913              انا ابوس قلبي الف مره لانه اختارك انت  \n",
       "457024  البسمه اللي ترحب بي وانا مقبل يا جعلني ماخلا م...  \n",
       "457026  لو ابي غيرك ترا حولي كثير بس قلبي ما يفز لكل عابر  \n",
       "457272                                                     \n",
       "457354                                الضرب في الميت حرام  \n",
       "457649                              ودي اصدق بس قويه قويه  \n",
       "457711                                   ايه الي بيحصل ده  \n",
       "458022                              الله يخليكم لبعض يارب  \n",
       "\n",
       "[1043 rows x 4 columns]"
      ]
     },
     "execution_count": 16,
     "metadata": {},
     "output_type": "execute_result"
    }
   ],
   "source": [
    "df[df.duplicated(['text_preprocessed'])]"
   ]
  },
  {
   "cell_type": "code",
   "execution_count": 17,
   "metadata": {
    "ExecuteTime": {
     "end_time": "2022-03-12T01:08:43.842626Z",
     "start_time": "2022-03-12T01:08:43.334779Z"
    }
   },
   "outputs": [],
   "source": [
    "duplicates=df[df.duplicated(['text_preprocessed'])]"
   ]
  },
  {
   "cell_type": "code",
   "execution_count": 18,
   "metadata": {
    "ExecuteTime": {
     "end_time": "2022-03-12T01:08:44.478933Z",
     "start_time": "2022-03-12T01:08:44.467213Z"
    }
   },
   "outputs": [
    {
     "data": {
      "text/plain": [
       "BH    171\n",
       "KW    116\n",
       "AE     98\n",
       "JO     85\n",
       "EG     80\n",
       "OM     78\n",
       "PL     66\n",
       "SD     57\n",
       "SA     51\n",
       "YE     45\n",
       "LB     43\n",
       "DZ     38\n",
       "LY     34\n",
       "SY     27\n",
       "QA     23\n",
       "IQ     11\n",
       "MA     11\n",
       "TN      9\n",
       "Name: dialect, dtype: int64"
      ]
     },
     "execution_count": 18,
     "metadata": {},
     "output_type": "execute_result"
    }
   ],
   "source": [
    "duplicates.dialect.value_counts()"
   ]
  },
  {
   "cell_type": "code",
   "execution_count": 19,
   "metadata": {
    "ExecuteTime": {
     "end_time": "2022-03-12T01:08:48.217897Z",
     "start_time": "2022-03-12T01:08:47.631977Z"
    }
   },
   "outputs": [],
   "source": [
    "df_clean_prep= df.drop_duplicates('text_preprocessed').reset_index(drop=True)"
   ]
  },
  {
   "cell_type": "code",
   "execution_count": 20,
   "metadata": {
    "ExecuteTime": {
     "end_time": "2022-03-12T01:08:49.859418Z",
     "start_time": "2022-03-12T01:08:49.284260Z"
    }
   },
   "outputs": [
    {
     "data": {
      "text/html": [
       "<div>\n",
       "<style scoped>\n",
       "    .dataframe tbody tr th:only-of-type {\n",
       "        vertical-align: middle;\n",
       "    }\n",
       "\n",
       "    .dataframe tbody tr th {\n",
       "        vertical-align: top;\n",
       "    }\n",
       "\n",
       "    .dataframe thead th {\n",
       "        text-align: right;\n",
       "    }\n",
       "</style>\n",
       "<table border=\"1\" class=\"dataframe\">\n",
       "  <thead>\n",
       "    <tr style=\"text-align: right;\">\n",
       "      <th></th>\n",
       "      <th>id</th>\n",
       "      <th>dialect</th>\n",
       "      <th>tweets</th>\n",
       "      <th>text_preprocessed</th>\n",
       "    </tr>\n",
       "  </thead>\n",
       "  <tbody>\n",
       "  </tbody>\n",
       "</table>\n",
       "</div>"
      ],
      "text/plain": [
       "Empty DataFrame\n",
       "Columns: [id, dialect, tweets, text_preprocessed]\n",
       "Index: []"
      ]
     },
     "execution_count": 20,
     "metadata": {},
     "output_type": "execute_result"
    }
   ],
   "source": [
    "df_clean_prep[df_clean_prep.duplicated(['text_preprocessed'])]"
   ]
  },
  {
   "cell_type": "code",
   "execution_count": 21,
   "metadata": {
    "ExecuteTime": {
     "end_time": "2022-03-12T01:08:51.178234Z",
     "start_time": "2022-03-12T01:08:51.029810Z"
    }
   },
   "outputs": [
    {
     "data": {
      "text/html": [
       "<div>\n",
       "<style scoped>\n",
       "    .dataframe tbody tr th:only-of-type {\n",
       "        vertical-align: middle;\n",
       "    }\n",
       "\n",
       "    .dataframe tbody tr th {\n",
       "        vertical-align: top;\n",
       "    }\n",
       "\n",
       "    .dataframe thead th {\n",
       "        text-align: right;\n",
       "    }\n",
       "</style>\n",
       "<table border=\"1\" class=\"dataframe\">\n",
       "  <thead>\n",
       "    <tr style=\"text-align: right;\">\n",
       "      <th></th>\n",
       "      <th>id</th>\n",
       "      <th>dialect</th>\n",
       "      <th>tweets</th>\n",
       "      <th>text_preprocessed</th>\n",
       "    </tr>\n",
       "  </thead>\n",
       "  <tbody>\n",
       "  </tbody>\n",
       "</table>\n",
       "</div>"
      ],
      "text/plain": [
       "Empty DataFrame\n",
       "Columns: [id, dialect, tweets, text_preprocessed]\n",
       "Index: []"
      ]
     },
     "execution_count": 21,
     "metadata": {},
     "output_type": "execute_result"
    }
   ],
   "source": [
    "df_clean_prep[df_clean_prep.isnull().any(axis=1)]"
   ]
  },
  {
   "cell_type": "code",
   "execution_count": 22,
   "metadata": {
    "ExecuteTime": {
     "end_time": "2022-03-12T01:08:53.668798Z",
     "start_time": "2022-03-12T01:08:53.628762Z"
    }
   },
   "outputs": [
    {
     "data": {
      "text/html": [
       "<div>\n",
       "<style scoped>\n",
       "    .dataframe tbody tr th:only-of-type {\n",
       "        vertical-align: middle;\n",
       "    }\n",
       "\n",
       "    .dataframe tbody tr th {\n",
       "        vertical-align: top;\n",
       "    }\n",
       "\n",
       "    .dataframe thead th {\n",
       "        text-align: right;\n",
       "    }\n",
       "</style>\n",
       "<table border=\"1\" class=\"dataframe\">\n",
       "  <thead>\n",
       "    <tr style=\"text-align: right;\">\n",
       "      <th></th>\n",
       "      <th>id</th>\n",
       "      <th>dialect</th>\n",
       "      <th>tweets</th>\n",
       "      <th>text_preprocessed</th>\n",
       "    </tr>\n",
       "  </thead>\n",
       "  <tbody>\n",
       "    <tr>\n",
       "      <th>133763</th>\n",
       "      <td>982625921948618752</td>\n",
       "      <td>SY</td>\n",
       "      <td>@Mohammad778861 الياباني لازم يروح كل الدول ال...</td>\n",
       "      <td>الياباني لازم يروح كل الدول العربيه بيتعلم اكثر</td>\n",
       "    </tr>\n",
       "    <tr>\n",
       "      <th>435881</th>\n",
       "      <td>194072535418142720</td>\n",
       "      <td>BH</td>\n",
       "      <td>@nahed8 الله يعافيج أختي ، وراح نستمر إذا ماكن...</td>\n",
       "      <td>الله يعافيج اختي وراح نستمر اذا ماكنا ثقال عليكم</td>\n",
       "    </tr>\n",
       "    <tr>\n",
       "      <th>144237</th>\n",
       "      <td>1042001350593314816</td>\n",
       "      <td>TN</td>\n",
       "      <td>@Mgamallawyer 😍 دة حبيبي دة \\nرئيسي ومهما خانو...</td>\n",
       "      <td>ده حبيبي ده رءيسي ومهما خانوه وقالو عنه هو رءي...</td>\n",
       "    </tr>\n",
       "    <tr>\n",
       "      <th>256877</th>\n",
       "      <td>1166955845537734912</td>\n",
       "      <td>EG</td>\n",
       "      <td>@fatma172730 Sensor الحنفية بس\\nإنما الحوض ده ...</td>\n",
       "      <td>الحنفيه بس انما الحوض ده لالالالا</td>\n",
       "    </tr>\n",
       "    <tr>\n",
       "      <th>11343</th>\n",
       "      <td>520625042229825600</td>\n",
       "      <td>IQ</td>\n",
       "      <td>قـسم بالـبـيــت ذاك التـﮔـصـــده الحجــاج\\nوقـ...</td>\n",
       "      <td>قسم بالبيت ذاك الت صده الحجاج وقسم باللي انعرج...</td>\n",
       "    </tr>\n",
       "  </tbody>\n",
       "</table>\n",
       "</div>"
      ],
      "text/plain": [
       "                         id dialect  \\\n",
       "133763   982625921948618752      SY   \n",
       "435881   194072535418142720      BH   \n",
       "144237  1042001350593314816      TN   \n",
       "256877  1166955845537734912      EG   \n",
       "11343    520625042229825600      IQ   \n",
       "\n",
       "                                                   tweets  \\\n",
       "133763  @Mohammad778861 الياباني لازم يروح كل الدول ال...   \n",
       "435881  @nahed8 الله يعافيج أختي ، وراح نستمر إذا ماكن...   \n",
       "144237  @Mgamallawyer 😍 دة حبيبي دة \\nرئيسي ومهما خانو...   \n",
       "256877  @fatma172730 Sensor الحنفية بس\\nإنما الحوض ده ...   \n",
       "11343   قـسم بالـبـيــت ذاك التـﮔـصـــده الحجــاج\\nوقـ...   \n",
       "\n",
       "                                        text_preprocessed  \n",
       "133763    الياباني لازم يروح كل الدول العربيه بيتعلم اكثر  \n",
       "435881   الله يعافيج اختي وراح نستمر اذا ماكنا ثقال عليكم  \n",
       "144237  ده حبيبي ده رءيسي ومهما خانوه وقالو عنه هو رءي...  \n",
       "256877                  الحنفيه بس انما الحوض ده لالالالا  \n",
       "11343   قسم بالبيت ذاك الت صده الحجاج وقسم باللي انعرج...  "
      ]
     },
     "execution_count": 22,
     "metadata": {},
     "output_type": "execute_result"
    }
   ],
   "source": [
    "df_clean_prep.sample(5)"
   ]
  },
  {
   "cell_type": "code",
   "execution_count": 23,
   "metadata": {
    "ExecuteTime": {
     "end_time": "2022-03-12T01:08:59.751205Z",
     "start_time": "2022-03-12T01:08:59.586177Z"
    }
   },
   "outputs": [
    {
     "name": "stdout",
     "output_type": "stream",
     "text": [
      "DataFrame Shape: (457154, 4) \n",
      "\n",
      "  DataFrame Info \n",
      " --------------------\n",
      "<class 'pandas.core.frame.DataFrame'>\n",
      "RangeIndex: 457154 entries, 0 to 457153\n",
      "Data columns (total 4 columns):\n",
      "id                   457154 non-null int64\n",
      "dialect              457154 non-null object\n",
      "tweets               457154 non-null object\n",
      "text_preprocessed    457154 non-null object\n",
      "dtypes: int64(1), object(3)\n",
      "memory usage: 14.0+ MB\n",
      "\n"
     ]
    }
   ],
   "source": [
    "print(\"DataFrame Shape:\",df_clean_prep.shape,\"\\n\")\n",
    "print(\"  DataFrame Info\",\"\\n\",\"-\"*20)\n",
    "df_clean_prep.info()\n",
    "print(\"\")"
   ]
  },
  {
   "cell_type": "code",
   "execution_count": 24,
   "metadata": {
    "ExecuteTime": {
     "end_time": "2022-03-12T01:09:05.670830Z",
     "start_time": "2022-03-12T01:09:05.404186Z"
    }
   },
   "outputs": [],
   "source": [
    "keys_dictionary   = {0:\"EG\",1:\"PL\",2:\"KW\",3:\"LY\",4:\"QA\",5:\"JO\",6:\"LB\",7:\"SA\",8:\"AE\",9:\"BH\",\n",
    "                     10:\"OM\",11:\"SY\",12:\"DZ\",13:\"IQ\",14:\"SD\",15:\"MA\",16:\"YE\",17:\"TN\"}\n",
    "\n",
    "labels_dictionary = {\"EG\":0,\"PL\":1,\"KW\":2,\"LY\":3,\"QA\":4,\"JO\":5,\"LB\":6,\"SA\":7,\"AE\":8,\"BH\":9,\n",
    "                     \"OM\":10,\"SY\":11,\"DZ\":12,\"IQ\":13,\"SD\":14,\"MA\":15,\"YE\":16,\"TN\":17}\n",
    "df_clean_prep['label'] = df_clean_prep['dialect'].apply(lambda x : labels_dictionary.get(x))"
   ]
  },
  {
   "cell_type": "code",
   "execution_count": 25,
   "metadata": {
    "ExecuteTime": {
     "end_time": "2022-03-12T01:09:08.345915Z",
     "start_time": "2022-03-12T01:09:08.328344Z"
    }
   },
   "outputs": [
    {
     "data": {
      "text/html": [
       "<div>\n",
       "<style scoped>\n",
       "    .dataframe tbody tr th:only-of-type {\n",
       "        vertical-align: middle;\n",
       "    }\n",
       "\n",
       "    .dataframe tbody tr th {\n",
       "        vertical-align: top;\n",
       "    }\n",
       "\n",
       "    .dataframe thead th {\n",
       "        text-align: right;\n",
       "    }\n",
       "</style>\n",
       "<table border=\"1\" class=\"dataframe\">\n",
       "  <thead>\n",
       "    <tr style=\"text-align: right;\">\n",
       "      <th></th>\n",
       "      <th>id</th>\n",
       "      <th>dialect</th>\n",
       "      <th>tweets</th>\n",
       "      <th>text_preprocessed</th>\n",
       "      <th>label</th>\n",
       "    </tr>\n",
       "  </thead>\n",
       "  <tbody>\n",
       "    <tr>\n",
       "      <th>0</th>\n",
       "      <td>1175358310087892992</td>\n",
       "      <td>IQ</td>\n",
       "      <td>@Nw8ieJUwaCAAreT لكن بالنهاية .. ينتفض .. يغير .</td>\n",
       "      <td>لكن بالنهايه ينتفض يغير</td>\n",
       "      <td>13</td>\n",
       "    </tr>\n",
       "    <tr>\n",
       "      <th>1</th>\n",
       "      <td>1175416117793349632</td>\n",
       "      <td>IQ</td>\n",
       "      <td>@7zNqXP0yrODdRjK يعني هذا محسوب على البشر .. ح...</td>\n",
       "      <td>يعني هذا محسوب علي البشر حيونه ووحشيه وتطلبون ...</td>\n",
       "      <td>13</td>\n",
       "    </tr>\n",
       "    <tr>\n",
       "      <th>2</th>\n",
       "      <td>1175450108898565888</td>\n",
       "      <td>IQ</td>\n",
       "      <td>@KanaanRema مبين من كلامه خليجي</td>\n",
       "      <td>مبين من كلامه خليجي</td>\n",
       "      <td>13</td>\n",
       "    </tr>\n",
       "    <tr>\n",
       "      <th>3</th>\n",
       "      <td>1175471073770573824</td>\n",
       "      <td>IQ</td>\n",
       "      <td>@HAIDER76128900 يسلملي مرورك وروحك الحلوه💐</td>\n",
       "      <td>يسلملي مرورك وروحك الحلوه</td>\n",
       "      <td>13</td>\n",
       "    </tr>\n",
       "    <tr>\n",
       "      <th>4</th>\n",
       "      <td>1175496913145217024</td>\n",
       "      <td>IQ</td>\n",
       "      <td>@hmo2406 وين هل الغيبه  اخ محمد 🌸🌺</td>\n",
       "      <td>وين هل الغيبه اخ محمد</td>\n",
       "      <td>13</td>\n",
       "    </tr>\n",
       "  </tbody>\n",
       "</table>\n",
       "</div>"
      ],
      "text/plain": [
       "                    id dialect  \\\n",
       "0  1175358310087892992      IQ   \n",
       "1  1175416117793349632      IQ   \n",
       "2  1175450108898565888      IQ   \n",
       "3  1175471073770573824      IQ   \n",
       "4  1175496913145217024      IQ   \n",
       "\n",
       "                                              tweets  \\\n",
       "0   @Nw8ieJUwaCAAreT لكن بالنهاية .. ينتفض .. يغير .   \n",
       "1  @7zNqXP0yrODdRjK يعني هذا محسوب على البشر .. ح...   \n",
       "2                    @KanaanRema مبين من كلامه خليجي   \n",
       "3         @HAIDER76128900 يسلملي مرورك وروحك الحلوه💐   \n",
       "4                 @hmo2406 وين هل الغيبه  اخ محمد 🌸🌺   \n",
       "\n",
       "                                   text_preprocessed  label  \n",
       "0                            لكن بالنهايه ينتفض يغير     13  \n",
       "1  يعني هذا محسوب علي البشر حيونه ووحشيه وتطلبون ...     13  \n",
       "2                                مبين من كلامه خليجي     13  \n",
       "3                          يسلملي مرورك وروحك الحلوه     13  \n",
       "4                              وين هل الغيبه اخ محمد     13  "
      ]
     },
     "execution_count": 25,
     "metadata": {},
     "output_type": "execute_result"
    }
   ],
   "source": [
    "df_clean_prep.head(5)"
   ]
  },
  {
   "cell_type": "code",
   "execution_count": 26,
   "metadata": {
    "ExecuteTime": {
     "end_time": "2022-03-12T01:09:13.890403Z",
     "start_time": "2022-03-12T01:09:13.600340Z"
    }
   },
   "outputs": [],
   "source": [
    "df_ = df_clean_prep.sample(frac=1).reset_index(drop=True)"
   ]
  },
  {
   "cell_type": "code",
   "execution_count": 27,
   "metadata": {
    "ExecuteTime": {
     "end_time": "2022-03-12T01:09:14.470311Z",
     "start_time": "2022-03-12T01:09:14.454685Z"
    }
   },
   "outputs": [
    {
     "data": {
      "text/html": [
       "<div>\n",
       "<style scoped>\n",
       "    .dataframe tbody tr th:only-of-type {\n",
       "        vertical-align: middle;\n",
       "    }\n",
       "\n",
       "    .dataframe tbody tr th {\n",
       "        vertical-align: top;\n",
       "    }\n",
       "\n",
       "    .dataframe thead th {\n",
       "        text-align: right;\n",
       "    }\n",
       "</style>\n",
       "<table border=\"1\" class=\"dataframe\">\n",
       "  <thead>\n",
       "    <tr style=\"text-align: right;\">\n",
       "      <th></th>\n",
       "      <th>id</th>\n",
       "      <th>dialect</th>\n",
       "      <th>tweets</th>\n",
       "      <th>text_preprocessed</th>\n",
       "      <th>label</th>\n",
       "    </tr>\n",
       "  </thead>\n",
       "  <tbody>\n",
       "    <tr>\n",
       "      <th>0</th>\n",
       "      <td>1022284333007208448</td>\n",
       "      <td>SA</td>\n",
       "      <td>@nayef_matar1 @50Kareem بس انت ماتفهم خالص😁 اهبل</td>\n",
       "      <td>بس انت ماتفهم خالص اهبل</td>\n",
       "      <td>7</td>\n",
       "    </tr>\n",
       "    <tr>\n",
       "      <th>1</th>\n",
       "      <td>875062892504207360</td>\n",
       "      <td>SD</td>\n",
       "      <td>@ANassr11 النصر جاب زوران كبديل ثاني، \\nياااار...</td>\n",
       "      <td>النصر جاب زوران كبديل ثاني يارب يطلع افضل من ز...</td>\n",
       "      <td>14</td>\n",
       "    </tr>\n",
       "    <tr>\n",
       "      <th>2</th>\n",
       "      <td>1169962790376869888</td>\n",
       "      <td>LY</td>\n",
       "      <td>@MalikElghwail @a_shaklawoon وسّع مداركك يا خونا</td>\n",
       "      <td>وسع مداركك يا خونا</td>\n",
       "      <td>3</td>\n",
       "    </tr>\n",
       "    <tr>\n",
       "      <th>3</th>\n",
       "      <td>1095484763522170752</td>\n",
       "      <td>EG</td>\n",
       "      <td>@osha022 @_Noooooona_ طالما اتأكدنا انهم طفشوا...</td>\n",
       "      <td>طالما اتاكدنا انهم طفشوا كده انا انام من غير ش...</td>\n",
       "      <td>0</td>\n",
       "    </tr>\n",
       "    <tr>\n",
       "      <th>4</th>\n",
       "      <td>1145298528283037568</td>\n",
       "      <td>KW</td>\n",
       "      <td>يضحكون والمريض يتألم \\n\\nأهم شي الصوره تكون وا...</td>\n",
       "      <td>يضحكون والمريض يتالم اهم شي الصوره تكون واضحه</td>\n",
       "      <td>2</td>\n",
       "    </tr>\n",
       "  </tbody>\n",
       "</table>\n",
       "</div>"
      ],
      "text/plain": [
       "                    id dialect  \\\n",
       "0  1022284333007208448      SA   \n",
       "1   875062892504207360      SD   \n",
       "2  1169962790376869888      LY   \n",
       "3  1095484763522170752      EG   \n",
       "4  1145298528283037568      KW   \n",
       "\n",
       "                                              tweets  \\\n",
       "0   @nayef_matar1 @50Kareem بس انت ماتفهم خالص😁 اهبل   \n",
       "1  @ANassr11 النصر جاب زوران كبديل ثاني، \\nياااار...   \n",
       "2   @MalikElghwail @a_shaklawoon وسّع مداركك يا خونا   \n",
       "3  @osha022 @_Noooooona_ طالما اتأكدنا انهم طفشوا...   \n",
       "4  يضحكون والمريض يتألم \\n\\nأهم شي الصوره تكون وا...   \n",
       "\n",
       "                                   text_preprocessed  label  \n",
       "0                            بس انت ماتفهم خالص اهبل      7  \n",
       "1  النصر جاب زوران كبديل ثاني يارب يطلع افضل من ز...     14  \n",
       "2                                 وسع مداركك يا خونا      3  \n",
       "3  طالما اتاكدنا انهم طفشوا كده انا انام من غير ش...      0  \n",
       "4      يضحكون والمريض يتالم اهم شي الصوره تكون واضحه      2  "
      ]
     },
     "execution_count": 27,
     "metadata": {},
     "output_type": "execute_result"
    }
   ],
   "source": [
    "df_.head(5)"
   ]
  },
  {
   "cell_type": "code",
   "execution_count": 28,
   "metadata": {
    "ExecuteTime": {
     "end_time": "2022-03-12T01:09:27.970593Z",
     "start_time": "2022-03-12T01:09:22.522665Z"
    }
   },
   "outputs": [],
   "source": [
    "df_.to_csv('Cleaned_PreProcessed_Tweets_dialect_dataset.csv', encoding='utf-8',index = None, header=True)"
   ]
  },
  {
   "cell_type": "code",
   "execution_count": 29,
   "metadata": {
    "ExecuteTime": {
     "end_time": "2022-03-12T01:09:30.658030Z",
     "start_time": "2022-03-12T01:09:30.630686Z"
    }
   },
   "outputs": [],
   "source": [
    "dfTotal=df_[[\"text_preprocessed\",\"label\"]]"
   ]
  },
  {
   "cell_type": "code",
   "execution_count": 30,
   "metadata": {
    "ExecuteTime": {
     "end_time": "2022-03-12T01:09:31.601329Z",
     "start_time": "2022-03-12T01:09:31.588633Z"
    }
   },
   "outputs": [
    {
     "data": {
      "text/html": [
       "<div>\n",
       "<style scoped>\n",
       "    .dataframe tbody tr th:only-of-type {\n",
       "        vertical-align: middle;\n",
       "    }\n",
       "\n",
       "    .dataframe tbody tr th {\n",
       "        vertical-align: top;\n",
       "    }\n",
       "\n",
       "    .dataframe thead th {\n",
       "        text-align: right;\n",
       "    }\n",
       "</style>\n",
       "<table border=\"1\" class=\"dataframe\">\n",
       "  <thead>\n",
       "    <tr style=\"text-align: right;\">\n",
       "      <th></th>\n",
       "      <th>text_preprocessed</th>\n",
       "      <th>label</th>\n",
       "    </tr>\n",
       "  </thead>\n",
       "  <tbody>\n",
       "    <tr>\n",
       "      <th>0</th>\n",
       "      <td>بس انت ماتفهم خالص اهبل</td>\n",
       "      <td>7</td>\n",
       "    </tr>\n",
       "    <tr>\n",
       "      <th>1</th>\n",
       "      <td>النصر جاب زوران كبديل ثاني يارب يطلع افضل من ز...</td>\n",
       "      <td>14</td>\n",
       "    </tr>\n",
       "    <tr>\n",
       "      <th>2</th>\n",
       "      <td>وسع مداركك يا خونا</td>\n",
       "      <td>3</td>\n",
       "    </tr>\n",
       "    <tr>\n",
       "      <th>3</th>\n",
       "      <td>طالما اتاكدنا انهم طفشوا كده انا انام من غير ش...</td>\n",
       "      <td>0</td>\n",
       "    </tr>\n",
       "    <tr>\n",
       "      <th>4</th>\n",
       "      <td>يضحكون والمريض يتالم اهم شي الصوره تكون واضحه</td>\n",
       "      <td>2</td>\n",
       "    </tr>\n",
       "  </tbody>\n",
       "</table>\n",
       "</div>"
      ],
      "text/plain": [
       "                                   text_preprocessed  label\n",
       "0                            بس انت ماتفهم خالص اهبل      7\n",
       "1  النصر جاب زوران كبديل ثاني يارب يطلع افضل من ز...     14\n",
       "2                                 وسع مداركك يا خونا      3\n",
       "3  طالما اتاكدنا انهم طفشوا كده انا انام من غير ش...      0\n",
       "4      يضحكون والمريض يتالم اهم شي الصوره تكون واضحه      2"
      ]
     },
     "execution_count": 30,
     "metadata": {},
     "output_type": "execute_result"
    }
   ],
   "source": [
    "dfTotal.head()"
   ]
  },
  {
   "cell_type": "code",
   "execution_count": 49,
   "metadata": {
    "ExecuteTime": {
     "end_time": "2022-03-12T01:31:26.016873Z",
     "start_time": "2022-03-12T01:31:25.999310Z"
    }
   },
   "outputs": [
    {
     "data": {
      "text/plain": [
       "0     57556\n",
       "1     43676\n",
       "2     41993\n",
       "3     36465\n",
       "4     31046\n",
       "5     27836\n",
       "6     27574\n",
       "7     26781\n",
       "8     26198\n",
       "9     26121\n",
       "10    19038\n",
       "11    16215\n",
       "12    16145\n",
       "13    15486\n",
       "14    14377\n",
       "15    11528\n",
       "16     9882\n",
       "17     9237\n",
       "Name: label, dtype: int64"
      ]
     },
     "execution_count": 49,
     "metadata": {},
     "output_type": "execute_result"
    }
   ],
   "source": [
    "dfTotal.label.value_counts()"
   ]
  },
  {
   "cell_type": "code",
   "execution_count": 51,
   "metadata": {
    "ExecuteTime": {
     "end_time": "2022-03-12T01:31:41.411588Z",
     "start_time": "2022-03-12T01:31:41.402805Z"
    }
   },
   "outputs": [],
   "source": [
    "def randomSampling_df(df,percent):\n",
    "    text=[]\n",
    "    label=[]\n",
    "    for i in range(18):\n",
    "        df2=df[df[\"label\"]==i].sample(frac=percent)\n",
    "        text.extend(list(df2[\"text_preprocessed\"]))\n",
    "        label.extend(list(df2[\"label\"]))\n",
    "    return text, label\n",
    "        "
   ]
  },
  {
   "cell_type": "code",
   "execution_count": 52,
   "metadata": {
    "ExecuteTime": {
     "end_time": "2022-03-12T01:31:42.087213Z",
     "start_time": "2022-03-12T01:31:41.925122Z"
    }
   },
   "outputs": [],
   "source": [
    "text,label=randomSampling_df(dfTotal,0.1)"
   ]
  },
  {
   "cell_type": "code",
   "execution_count": 53,
   "metadata": {
    "ExecuteTime": {
     "end_time": "2022-03-12T01:31:47.031294Z",
     "start_time": "2022-03-12T01:31:42.717073Z"
    }
   },
   "outputs": [],
   "source": [
    "df_10_percent=pd.DataFrame([text,label], index=['text_preprocessed', 'label']).T"
   ]
  },
  {
   "cell_type": "code",
   "execution_count": 54,
   "metadata": {
    "ExecuteTime": {
     "end_time": "2022-03-12T01:31:48.413018Z",
     "start_time": "2022-03-12T01:31:48.393482Z"
    }
   },
   "outputs": [
    {
     "data": {
      "text/plain": [
       "0     5756\n",
       "1     4368\n",
       "2     4199\n",
       "3     3646\n",
       "4     3105\n",
       "5     2784\n",
       "6     2757\n",
       "7     2678\n",
       "8     2620\n",
       "9     2612\n",
       "10    1904\n",
       "11    1622\n",
       "12    1614\n",
       "13    1549\n",
       "14    1438\n",
       "15    1153\n",
       "16     988\n",
       "17     924\n",
       "Name: label, dtype: int64"
      ]
     },
     "execution_count": 54,
     "metadata": {},
     "output_type": "execute_result"
    }
   ],
   "source": [
    "df_10_percent.label.value_counts()"
   ]
  },
  {
   "cell_type": "code",
   "execution_count": 56,
   "metadata": {
    "ExecuteTime": {
     "end_time": "2022-03-12T01:34:06.310776Z",
     "start_time": "2022-03-12T01:34:06.285364Z"
    }
   },
   "outputs": [],
   "source": [
    "df_10_percent= df_10_percent.sample(frac=1).reset_index(drop=True)"
   ]
  },
  {
   "cell_type": "code",
   "execution_count": 57,
   "metadata": {
    "ExecuteTime": {
     "end_time": "2022-03-12T01:34:16.328611Z",
     "start_time": "2022-03-12T01:34:16.315918Z"
    }
   },
   "outputs": [
    {
     "data": {
      "text/html": [
       "<div>\n",
       "<style scoped>\n",
       "    .dataframe tbody tr th:only-of-type {\n",
       "        vertical-align: middle;\n",
       "    }\n",
       "\n",
       "    .dataframe tbody tr th {\n",
       "        vertical-align: top;\n",
       "    }\n",
       "\n",
       "    .dataframe thead th {\n",
       "        text-align: right;\n",
       "    }\n",
       "</style>\n",
       "<table border=\"1\" class=\"dataframe\">\n",
       "  <thead>\n",
       "    <tr style=\"text-align: right;\">\n",
       "      <th></th>\n",
       "      <th>text_preprocessed</th>\n",
       "      <th>label</th>\n",
       "    </tr>\n",
       "  </thead>\n",
       "  <tbody>\n",
       "    <tr>\n",
       "      <th>0</th>\n",
       "      <td>عز هالبرنامج يوم مالك خاطر تطلع ويوعان</td>\n",
       "      <td>8</td>\n",
       "    </tr>\n",
       "    <tr>\n",
       "      <th>1</th>\n",
       "      <td>اقرب شخص حصلته انته انا</td>\n",
       "      <td>10</td>\n",
       "    </tr>\n",
       "    <tr>\n",
       "      <th>2</th>\n",
       "      <td>الي كل مب رجل مثلك وشرواك لا انا من اهل السياس...</td>\n",
       "      <td>8</td>\n",
       "    </tr>\n",
       "    <tr>\n",
       "      <th>3</th>\n",
       "      <td>يومك احلي خويا و الله ربي يحفظنا و خلاص</td>\n",
       "      <td>3</td>\n",
       "    </tr>\n",
       "    <tr>\n",
       "      <th>4</th>\n",
       "      <td>نبيه والناس صاحيه بين هذي الاوقات بالكثير</td>\n",
       "      <td>4</td>\n",
       "    </tr>\n",
       "  </tbody>\n",
       "</table>\n",
       "</div>"
      ],
      "text/plain": [
       "                                   text_preprocessed label\n",
       "0             عز هالبرنامج يوم مالك خاطر تطلع ويوعان     8\n",
       "1                            اقرب شخص حصلته انته انا    10\n",
       "2  الي كل مب رجل مثلك وشرواك لا انا من اهل السياس...     8\n",
       "3            يومك احلي خويا و الله ربي يحفظنا و خلاص     3\n",
       "4          نبيه والناس صاحيه بين هذي الاوقات بالكثير     4"
      ]
     },
     "execution_count": 57,
     "metadata": {},
     "output_type": "execute_result"
    }
   ],
   "source": [
    "df_10_percent.head()"
   ]
  },
  {
   "cell_type": "code",
   "execution_count": 58,
   "metadata": {
    "ExecuteTime": {
     "end_time": "2022-03-12T01:34:22.324274Z",
     "start_time": "2022-03-12T01:34:22.315481Z"
    }
   },
   "outputs": [],
   "source": [
    "def random_split(data, features, output, fraction, seed=42):\n",
    "    X_train, X_test, y_train, y_test = train_test_split(data[features],\n",
    "                                                        data[output],\n",
    "                                                        stratify = data[output],\n",
    "                                                        random_state=seed,\n",
    "                                                        train_size=fraction\n",
    "                                                       )\n",
    "    train_data = pd.DataFrame(data=X_train, columns=features)\n",
    "    train_data[output] = y_train\n",
    "    test_data = pd.DataFrame(data=X_test, columns=features)\n",
    "    test_data[output] = y_test\n",
    "    \n",
    "    return train_data, test_data"
   ]
  },
  {
   "cell_type": "code",
   "execution_count": 59,
   "metadata": {
    "ExecuteTime": {
     "end_time": "2022-03-12T01:35:26.996913Z",
     "start_time": "2022-03-12T01:35:26.990084Z"
    }
   },
   "outputs": [
    {
     "name": "stdout",
     "output_type": "stream",
     "text": [
      "output: label\n",
      "features: ['text_preprocessed']\n"
     ]
    }
   ],
   "source": [
    "train_fraction = 0.80 \n",
    "val_fraction   = 0.50   \n",
    "\n",
    "output = 'label' \n",
    "\n",
    "features = dfTotal.columns.tolist()\n",
    "\n",
    "features.remove(output)\n",
    "print('output:', output)\n",
    "print('features:', features)"
   ]
  },
  {
   "cell_type": "code",
   "execution_count": 60,
   "metadata": {
    "ExecuteTime": {
     "end_time": "2022-03-12T01:37:04.506083Z",
     "start_time": "2022-03-12T01:37:03.973876Z"
    }
   },
   "outputs": [
    {
     "name": "stdout",
     "output_type": "stream",
     "text": [
      "365723\n",
      "45715\n",
      "45716\n",
      "457154\n",
      "457154\n"
     ]
    }
   ],
   "source": [
    "dfTrain, tmp    = random_split(dfTotal, features, output, train_fraction, seed)\n",
    "dfValid, dfTest = random_split(tmp, features, output, val_fraction, seed)\n",
    "\n",
    "print(len(dfTrain))\n",
    "print(len(dfValid))\n",
    "print(len(dfTest))\n",
    "print(len(dfTrain)+len(dfValid)+len(dfTest))\n",
    "print(len(dfTotal))"
   ]
  },
  {
   "cell_type": "code",
   "execution_count": 61,
   "metadata": {
    "ExecuteTime": {
     "end_time": "2022-03-12T01:37:09.140400Z",
     "start_time": "2022-03-12T01:37:08.745908Z"
    }
   },
   "outputs": [
    {
     "name": "stdout",
     "output_type": "stream",
     "text": [
      "36573\n",
      "4572\n",
      "4572\n",
      "45717\n",
      "45717\n"
     ]
    }
   ],
   "source": [
    "dfTrain_10_percent, tmp_10_percent    = random_split(df_10_percent, features, output, train_fraction, seed)\n",
    "dfValid_10_percent, dfTest_10_percent = random_split(tmp_10_percent, features, output, val_fraction, seed)\n",
    "\n",
    "print(len(dfTrain_10_percent))\n",
    "print(len(dfValid_10_percent))\n",
    "print(len(dfTest_10_percent))\n",
    "print(len(dfTrain_10_percent)+len(dfValid_10_percent)+len(dfTest_10_percent))\n",
    "print(len(df_10_percent))"
   ]
  },
  {
   "cell_type": "code",
   "execution_count": 62,
   "metadata": {
    "ExecuteTime": {
     "end_time": "2022-03-12T01:37:52.503599Z",
     "start_time": "2022-03-12T01:37:52.497738Z"
    }
   },
   "outputs": [],
   "source": [
    "dfTrain.reset_index(drop=True,inplace=True)\n",
    "dfValid.reset_index(drop=True,inplace=True)\n",
    "dfTest.reset_index(drop=True,inplace=True)\n",
    "\n",
    "dfTrain_10_percent.reset_index(drop=True,inplace=True)\n",
    "dfValid_10_percent.reset_index(drop=True,inplace=True)\n",
    "dfTest_10_percent.reset_index(drop=True,inplace=True)"
   ]
  },
  {
   "cell_type": "code",
   "execution_count": 63,
   "metadata": {
    "ExecuteTime": {
     "end_time": "2022-03-12T01:37:58.166835Z",
     "start_time": "2022-03-12T01:37:58.155119Z"
    }
   },
   "outputs": [
    {
     "data": {
      "text/html": [
       "<div>\n",
       "<style scoped>\n",
       "    .dataframe tbody tr th:only-of-type {\n",
       "        vertical-align: middle;\n",
       "    }\n",
       "\n",
       "    .dataframe tbody tr th {\n",
       "        vertical-align: top;\n",
       "    }\n",
       "\n",
       "    .dataframe thead th {\n",
       "        text-align: right;\n",
       "    }\n",
       "</style>\n",
       "<table border=\"1\" class=\"dataframe\">\n",
       "  <thead>\n",
       "    <tr style=\"text-align: right;\">\n",
       "      <th></th>\n",
       "      <th>text_preprocessed</th>\n",
       "      <th>label</th>\n",
       "    </tr>\n",
       "  </thead>\n",
       "  <tbody>\n",
       "    <tr>\n",
       "      <th>0</th>\n",
       "      <td>وفد حماس غادر غزه للقاهره علشان يدردشو وياكلو سمك</td>\n",
       "      <td>1</td>\n",
       "    </tr>\n",
       "    <tr>\n",
       "      <th>1</th>\n",
       "      <td>ربنا يبعدهم عنا وعنكم ويكفينا غدرهم وشرهم</td>\n",
       "      <td>0</td>\n",
       "    </tr>\n",
       "    <tr>\n",
       "      <th>2</th>\n",
       "      <td>هذا صدته مره وشافه احد الشياب رحمه الله عليه و...</td>\n",
       "      <td>2</td>\n",
       "    </tr>\n",
       "    <tr>\n",
       "      <th>3</th>\n",
       "      <td>مابالصدور في سطور اي والله</td>\n",
       "      <td>12</td>\n",
       "    </tr>\n",
       "    <tr>\n",
       "      <th>4</th>\n",
       "      <td>ه قويه دكتوره هنوب عدهم فتوه جهاد والله الا طح...</td>\n",
       "      <td>13</td>\n",
       "    </tr>\n",
       "  </tbody>\n",
       "</table>\n",
       "</div>"
      ],
      "text/plain": [
       "                                   text_preprocessed  label\n",
       "0  وفد حماس غادر غزه للقاهره علشان يدردشو وياكلو سمك      1\n",
       "1          ربنا يبعدهم عنا وعنكم ويكفينا غدرهم وشرهم      0\n",
       "2  هذا صدته مره وشافه احد الشياب رحمه الله عليه و...      2\n",
       "3                         مابالصدور في سطور اي والله     12\n",
       "4  ه قويه دكتوره هنوب عدهم فتوه جهاد والله الا طح...     13"
      ]
     },
     "execution_count": 63,
     "metadata": {},
     "output_type": "execute_result"
    }
   ],
   "source": [
    "dfTrain.head()"
   ]
  },
  {
   "cell_type": "code",
   "execution_count": 64,
   "metadata": {
    "ExecuteTime": {
     "end_time": "2022-03-12T01:38:00.807214Z",
     "start_time": "2022-03-12T01:38:00.608963Z"
    }
   },
   "outputs": [
    {
     "name": "stdout",
     "output_type": "stream",
     "text": [
      "trainData\n"
     ]
    },
    {
     "data": {
      "text/html": [
       "<div>\n",
       "<style scoped>\n",
       "    .dataframe tbody tr th:only-of-type {\n",
       "        vertical-align: middle;\n",
       "    }\n",
       "\n",
       "    .dataframe tbody tr th {\n",
       "        vertical-align: top;\n",
       "    }\n",
       "\n",
       "    .dataframe thead th {\n",
       "        text-align: right;\n",
       "    }\n",
       "</style>\n",
       "<table border=\"1\" class=\"dataframe\">\n",
       "  <thead>\n",
       "    <tr style=\"text-align: right;\">\n",
       "      <th></th>\n",
       "      <th>Values</th>\n",
       "      <th>Percentage</th>\n",
       "    </tr>\n",
       "  </thead>\n",
       "  <tbody>\n",
       "    <tr>\n",
       "      <th>0</th>\n",
       "      <td>46045.0</td>\n",
       "      <td>12.590130</td>\n",
       "    </tr>\n",
       "    <tr>\n",
       "      <th>1</th>\n",
       "      <td>34941.0</td>\n",
       "      <td>9.553952</td>\n",
       "    </tr>\n",
       "    <tr>\n",
       "      <th>2</th>\n",
       "      <td>33594.0</td>\n",
       "      <td>9.185640</td>\n",
       "    </tr>\n",
       "    <tr>\n",
       "      <th>3</th>\n",
       "      <td>29172.0</td>\n",
       "      <td>7.976529</td>\n",
       "    </tr>\n",
       "    <tr>\n",
       "      <th>4</th>\n",
       "      <td>24837.0</td>\n",
       "      <td>6.791205</td>\n",
       "    </tr>\n",
       "    <tr>\n",
       "      <th>5</th>\n",
       "      <td>22269.0</td>\n",
       "      <td>6.089035</td>\n",
       "    </tr>\n",
       "    <tr>\n",
       "      <th>6</th>\n",
       "      <td>22059.0</td>\n",
       "      <td>6.031614</td>\n",
       "    </tr>\n",
       "    <tr>\n",
       "      <th>7</th>\n",
       "      <td>21425.0</td>\n",
       "      <td>5.858259</td>\n",
       "    </tr>\n",
       "    <tr>\n",
       "      <th>8</th>\n",
       "      <td>20958.0</td>\n",
       "      <td>5.730567</td>\n",
       "    </tr>\n",
       "    <tr>\n",
       "      <th>9</th>\n",
       "      <td>20897.0</td>\n",
       "      <td>5.713887</td>\n",
       "    </tr>\n",
       "    <tr>\n",
       "      <th>10</th>\n",
       "      <td>15230.0</td>\n",
       "      <td>4.164354</td>\n",
       "    </tr>\n",
       "    <tr>\n",
       "      <th>11</th>\n",
       "      <td>12972.0</td>\n",
       "      <td>3.546947</td>\n",
       "    </tr>\n",
       "    <tr>\n",
       "      <th>12</th>\n",
       "      <td>12916.0</td>\n",
       "      <td>3.531635</td>\n",
       "    </tr>\n",
       "    <tr>\n",
       "      <th>13</th>\n",
       "      <td>12389.0</td>\n",
       "      <td>3.387536</td>\n",
       "    </tr>\n",
       "    <tr>\n",
       "      <th>14</th>\n",
       "      <td>11501.0</td>\n",
       "      <td>3.144730</td>\n",
       "    </tr>\n",
       "    <tr>\n",
       "      <th>15</th>\n",
       "      <td>9222.0</td>\n",
       "      <td>2.521581</td>\n",
       "    </tr>\n",
       "    <tr>\n",
       "      <th>16</th>\n",
       "      <td>7906.0</td>\n",
       "      <td>2.161745</td>\n",
       "    </tr>\n",
       "    <tr>\n",
       "      <th>17</th>\n",
       "      <td>7390.0</td>\n",
       "      <td>2.020655</td>\n",
       "    </tr>\n",
       "  </tbody>\n",
       "</table>\n",
       "</div>"
      ],
      "text/plain": [
       "     Values  Percentage\n",
       "0   46045.0   12.590130\n",
       "1   34941.0    9.553952\n",
       "2   33594.0    9.185640\n",
       "3   29172.0    7.976529\n",
       "4   24837.0    6.791205\n",
       "5   22269.0    6.089035\n",
       "6   22059.0    6.031614\n",
       "7   21425.0    5.858259\n",
       "8   20958.0    5.730567\n",
       "9   20897.0    5.713887\n",
       "10  15230.0    4.164354\n",
       "11  12972.0    3.546947\n",
       "12  12916.0    3.531635\n",
       "13  12389.0    3.387536\n",
       "14  11501.0    3.144730\n",
       "15   9222.0    2.521581\n",
       "16   7906.0    2.161745\n",
       "17   7390.0    2.020655"
      ]
     },
     "execution_count": 64,
     "metadata": {},
     "output_type": "execute_result"
    }
   ],
   "source": [
    "print(\"trainData\")\n",
    "pd.DataFrame(data=np.column_stack((dfTrain.label.value_counts(), (dfTrain.label.value_counts()/len(dfTrain)*100))),columns=['Values','Percentage'])"
   ]
  },
  {
   "cell_type": "code",
   "execution_count": 65,
   "metadata": {
    "ExecuteTime": {
     "end_time": "2022-03-12T01:38:01.819008Z",
     "start_time": "2022-03-12T01:38:01.567052Z"
    }
   },
   "outputs": [
    {
     "data": {
      "image/png": "[encoded data removed]",
      "text/plain": [
       "<Figure size 432x288 with 1 Axes>"
      ]
     },
     "metadata": {},
     "output_type": "display_data"
    }
   ],
   "source": [
    "dfTrain.label.value_counts().plot(kind='pie');"
   ]
  },
  {
   "cell_type": "code",
   "execution_count": 66,
   "metadata": {
    "ExecuteTime": {
     "end_time": "2022-03-12T01:38:02.716182Z",
     "start_time": "2022-03-12T01:38:02.426179Z"
    }
   },
   "outputs": [
    {
     "data": {
      "image/png": "[encoded data removed]",
      "text/plain": [
       "<Figure size 432x288 with 1 Axes>"
      ]
     },
     "metadata": {
      "needs_background": "light"
     },
     "output_type": "display_data"
    }
   ],
   "source": [
    "sns.countplot(x=\"label\",data=dfTrain);"
   ]
  },
  {
   "cell_type": "code",
   "execution_count": 67,
   "metadata": {
    "ExecuteTime": {
     "end_time": "2022-03-12T01:38:03.256258Z",
     "start_time": "2022-03-12T01:38:03.243560Z"
    }
   },
   "outputs": [
    {
     "data": {
      "text/html": [
       "<div>\n",
       "<style scoped>\n",
       "    .dataframe tbody tr th:only-of-type {\n",
       "        vertical-align: middle;\n",
       "    }\n",
       "\n",
       "    .dataframe tbody tr th {\n",
       "        vertical-align: top;\n",
       "    }\n",
       "\n",
       "    .dataframe thead th {\n",
       "        text-align: right;\n",
       "    }\n",
       "</style>\n",
       "<table border=\"1\" class=\"dataframe\">\n",
       "  <thead>\n",
       "    <tr style=\"text-align: right;\">\n",
       "      <th></th>\n",
       "      <th>text_preprocessed</th>\n",
       "      <th>label</th>\n",
       "    </tr>\n",
       "  </thead>\n",
       "  <tbody>\n",
       "    <tr>\n",
       "      <th>0</th>\n",
       "      <td>اللي يحبك حبو والباقي شخبط عليه</td>\n",
       "      <td>12</td>\n",
       "    </tr>\n",
       "    <tr>\n",
       "      <th>1</th>\n",
       "      <td>تذكروا لما الجزيره كانت تحرض علي اسقاط وزعزعه ...</td>\n",
       "      <td>5</td>\n",
       "    </tr>\n",
       "    <tr>\n",
       "      <th>2</th>\n",
       "      <td>راح تجد كومه من الاعذار كالتالي والله بعيد وال...</td>\n",
       "      <td>10</td>\n",
       "    </tr>\n",
       "    <tr>\n",
       "      <th>3</th>\n",
       "      <td>مايشوف شر بس كبتن طلال كيف فسرتها عنيفه وقويه ...</td>\n",
       "      <td>9</td>\n",
       "    </tr>\n",
       "    <tr>\n",
       "      <th>4</th>\n",
       "      <td>المغرب ابدعت ومتعت وشرفت وخرجت والبرتغال فازت</td>\n",
       "      <td>0</td>\n",
       "    </tr>\n",
       "  </tbody>\n",
       "</table>\n",
       "</div>"
      ],
      "text/plain": [
       "                                   text_preprocessed  label\n",
       "0                    اللي يحبك حبو والباقي شخبط عليه     12\n",
       "1  تذكروا لما الجزيره كانت تحرض علي اسقاط وزعزعه ...      5\n",
       "2  راح تجد كومه من الاعذار كالتالي والله بعيد وال...     10\n",
       "3  مايشوف شر بس كبتن طلال كيف فسرتها عنيفه وقويه ...      9\n",
       "4      المغرب ابدعت ومتعت وشرفت وخرجت والبرتغال فازت      0"
      ]
     },
     "execution_count": 67,
     "metadata": {},
     "output_type": "execute_result"
    }
   ],
   "source": [
    "dfValid.head()"
   ]
  },
  {
   "cell_type": "code",
   "execution_count": 68,
   "metadata": {
    "ExecuteTime": {
     "end_time": "2022-03-12T01:38:03.940322Z",
     "start_time": "2022-03-12T01:38:03.915911Z"
    }
   },
   "outputs": [
    {
     "name": "stdout",
     "output_type": "stream",
     "text": [
      "validData\n"
     ]
    },
    {
     "data": {
      "text/html": [
       "<div>\n",
       "<style scoped>\n",
       "    .dataframe tbody tr th:only-of-type {\n",
       "        vertical-align: middle;\n",
       "    }\n",
       "\n",
       "    .dataframe tbody tr th {\n",
       "        vertical-align: top;\n",
       "    }\n",
       "\n",
       "    .dataframe thead th {\n",
       "        text-align: right;\n",
       "    }\n",
       "</style>\n",
       "<table border=\"1\" class=\"dataframe\">\n",
       "  <thead>\n",
       "    <tr style=\"text-align: right;\">\n",
       "      <th></th>\n",
       "      <th>Values</th>\n",
       "      <th>Percentage</th>\n",
       "    </tr>\n",
       "  </thead>\n",
       "  <tbody>\n",
       "    <tr>\n",
       "      <th>0</th>\n",
       "      <td>5755.0</td>\n",
       "      <td>12.588866</td>\n",
       "    </tr>\n",
       "    <tr>\n",
       "      <th>1</th>\n",
       "      <td>4367.0</td>\n",
       "      <td>9.552663</td>\n",
       "    </tr>\n",
       "    <tr>\n",
       "      <th>2</th>\n",
       "      <td>4199.0</td>\n",
       "      <td>9.185169</td>\n",
       "    </tr>\n",
       "    <tr>\n",
       "      <th>3</th>\n",
       "      <td>3646.0</td>\n",
       "      <td>7.975500</td>\n",
       "    </tr>\n",
       "    <tr>\n",
       "      <th>4</th>\n",
       "      <td>3104.0</td>\n",
       "      <td>6.789894</td>\n",
       "    </tr>\n",
       "    <tr>\n",
       "      <th>5</th>\n",
       "      <td>2783.0</td>\n",
       "      <td>6.087717</td>\n",
       "    </tr>\n",
       "    <tr>\n",
       "      <th>6</th>\n",
       "      <td>2758.0</td>\n",
       "      <td>6.033031</td>\n",
       "    </tr>\n",
       "    <tr>\n",
       "      <th>7</th>\n",
       "      <td>2678.0</td>\n",
       "      <td>5.858033</td>\n",
       "    </tr>\n",
       "    <tr>\n",
       "      <th>8</th>\n",
       "      <td>2620.0</td>\n",
       "      <td>5.731160</td>\n",
       "    </tr>\n",
       "    <tr>\n",
       "      <th>9</th>\n",
       "      <td>2612.0</td>\n",
       "      <td>5.713661</td>\n",
       "    </tr>\n",
       "    <tr>\n",
       "      <th>10</th>\n",
       "      <td>1904.0</td>\n",
       "      <td>4.164935</td>\n",
       "    </tr>\n",
       "    <tr>\n",
       "      <th>11</th>\n",
       "      <td>1622.0</td>\n",
       "      <td>3.548070</td>\n",
       "    </tr>\n",
       "    <tr>\n",
       "      <th>12</th>\n",
       "      <td>1615.0</td>\n",
       "      <td>3.532757</td>\n",
       "    </tr>\n",
       "    <tr>\n",
       "      <th>13</th>\n",
       "      <td>1549.0</td>\n",
       "      <td>3.388385</td>\n",
       "    </tr>\n",
       "    <tr>\n",
       "      <th>14</th>\n",
       "      <td>1438.0</td>\n",
       "      <td>3.145576</td>\n",
       "    </tr>\n",
       "    <tr>\n",
       "      <th>15</th>\n",
       "      <td>1153.0</td>\n",
       "      <td>2.522148</td>\n",
       "    </tr>\n",
       "    <tr>\n",
       "      <th>16</th>\n",
       "      <td>988.0</td>\n",
       "      <td>2.161216</td>\n",
       "    </tr>\n",
       "    <tr>\n",
       "      <th>17</th>\n",
       "      <td>924.0</td>\n",
       "      <td>2.021218</td>\n",
       "    </tr>\n",
       "  </tbody>\n",
       "</table>\n",
       "</div>"
      ],
      "text/plain": [
       "    Values  Percentage\n",
       "0   5755.0   12.588866\n",
       "1   4367.0    9.552663\n",
       "2   4199.0    9.185169\n",
       "3   3646.0    7.975500\n",
       "4   3104.0    6.789894\n",
       "5   2783.0    6.087717\n",
       "6   2758.0    6.033031\n",
       "7   2678.0    5.858033\n",
       "8   2620.0    5.731160\n",
       "9   2612.0    5.713661\n",
       "10  1904.0    4.164935\n",
       "11  1622.0    3.548070\n",
       "12  1615.0    3.532757\n",
       "13  1549.0    3.388385\n",
       "14  1438.0    3.145576\n",
       "15  1153.0    2.522148\n",
       "16   988.0    2.161216\n",
       "17   924.0    2.021218"
      ]
     },
     "execution_count": 68,
     "metadata": {},
     "output_type": "execute_result"
    }
   ],
   "source": [
    "print(\"validData\")\n",
    "pd.DataFrame(data=np.column_stack((dfValid.label.value_counts(), (dfValid.label.value_counts()/len(dfValid)*100))),columns=['Values','Percentage'])"
   ]
  },
  {
   "cell_type": "code",
   "execution_count": 69,
   "metadata": {
    "ExecuteTime": {
     "end_time": "2022-03-12T01:38:04.857959Z",
     "start_time": "2022-03-12T01:38:04.641170Z"
    }
   },
   "outputs": [
    {
     "data": {
      "image/png": "[encoded data removed]",
      "text/plain": [
       "<Figure size 432x288 with 1 Axes>"
      ]
     },
     "metadata": {},
     "output_type": "display_data"
    }
   ],
   "source": [
    "dfValid.label.value_counts().plot(kind='pie');"
   ]
  },
  {
   "cell_type": "code",
   "execution_count": 70,
   "metadata": {
    "ExecuteTime": {
     "end_time": "2022-03-12T01:38:05.759412Z",
     "start_time": "2022-03-12T01:38:05.499668Z"
    }
   },
   "outputs": [
    {
     "data": {
      "image/png": "[encoded data removed]",
      "text/plain": [
       "<Figure size 432x288 with 1 Axes>"
      ]
     },
     "metadata": {
      "needs_background": "light"
     },
     "output_type": "display_data"
    }
   ],
   "source": [
    "sns.countplot(x=\"label\",data=dfValid);"
   ]
  },
  {
   "cell_type": "code",
   "execution_count": 71,
   "metadata": {
    "ExecuteTime": {
     "end_time": "2022-03-12T01:38:06.342322Z",
     "start_time": "2022-03-12T01:38:06.331579Z"
    }
   },
   "outputs": [
    {
     "data": {
      "text/html": [
       "<div>\n",
       "<style scoped>\n",
       "    .dataframe tbody tr th:only-of-type {\n",
       "        vertical-align: middle;\n",
       "    }\n",
       "\n",
       "    .dataframe tbody tr th {\n",
       "        vertical-align: top;\n",
       "    }\n",
       "\n",
       "    .dataframe thead th {\n",
       "        text-align: right;\n",
       "    }\n",
       "</style>\n",
       "<table border=\"1\" class=\"dataframe\">\n",
       "  <thead>\n",
       "    <tr style=\"text-align: right;\">\n",
       "      <th></th>\n",
       "      <th>text_preprocessed</th>\n",
       "      <th>label</th>\n",
       "    </tr>\n",
       "  </thead>\n",
       "  <tbody>\n",
       "    <tr>\n",
       "      <th>0</th>\n",
       "      <td>اضحك بال ذب وهمومي اشكال وب لبي جروح المن اشكي...</td>\n",
       "      <td>13</td>\n",
       "    </tr>\n",
       "    <tr>\n",
       "      <th>1</th>\n",
       "      <td>شو مالهم كلهم قالبن عليه</td>\n",
       "      <td>5</td>\n",
       "    </tr>\n",
       "    <tr>\n",
       "      <th>2</th>\n",
       "      <td>يوم بيكون فالمنتخب رياييل قطرين تعال انهق غير ...</td>\n",
       "      <td>8</td>\n",
       "    </tr>\n",
       "    <tr>\n",
       "      <th>3</th>\n",
       "      <td>هذي السعوديه ون وتو في البليستيشن مب الواقع قب...</td>\n",
       "      <td>4</td>\n",
       "    </tr>\n",
       "    <tr>\n",
       "      <th>4</th>\n",
       "      <td>صباح الخير من وطن الخير ووطن العز</td>\n",
       "      <td>8</td>\n",
       "    </tr>\n",
       "  </tbody>\n",
       "</table>\n",
       "</div>"
      ],
      "text/plain": [
       "                                   text_preprocessed  label\n",
       "0  اضحك بال ذب وهمومي اشكال وب لبي جروح المن اشكي...     13\n",
       "1                           شو مالهم كلهم قالبن عليه      5\n",
       "2  يوم بيكون فالمنتخب رياييل قطرين تعال انهق غير ...      8\n",
       "3  هذي السعوديه ون وتو في البليستيشن مب الواقع قب...      4\n",
       "4                  صباح الخير من وطن الخير ووطن العز      8"
      ]
     },
     "execution_count": 71,
     "metadata": {},
     "output_type": "execute_result"
    }
   ],
   "source": [
    "dfTest.head()"
   ]
  },
  {
   "cell_type": "code",
   "execution_count": 72,
   "metadata": {
    "ExecuteTime": {
     "end_time": "2022-03-12T01:38:07.491619Z",
     "start_time": "2022-03-12T01:38:07.470126Z"
    }
   },
   "outputs": [
    {
     "name": "stdout",
     "output_type": "stream",
     "text": [
      "testData\n"
     ]
    },
    {
     "data": {
      "text/html": [
       "<div>\n",
       "<style scoped>\n",
       "    .dataframe tbody tr th:only-of-type {\n",
       "        vertical-align: middle;\n",
       "    }\n",
       "\n",
       "    .dataframe tbody tr th {\n",
       "        vertical-align: top;\n",
       "    }\n",
       "\n",
       "    .dataframe thead th {\n",
       "        text-align: right;\n",
       "    }\n",
       "</style>\n",
       "<table border=\"1\" class=\"dataframe\">\n",
       "  <thead>\n",
       "    <tr style=\"text-align: right;\">\n",
       "      <th></th>\n",
       "      <th>Values</th>\n",
       "      <th>Percentage</th>\n",
       "    </tr>\n",
       "  </thead>\n",
       "  <tbody>\n",
       "    <tr>\n",
       "      <th>0</th>\n",
       "      <td>5756.0</td>\n",
       "      <td>12.590778</td>\n",
       "    </tr>\n",
       "    <tr>\n",
       "      <th>1</th>\n",
       "      <td>4368.0</td>\n",
       "      <td>9.554642</td>\n",
       "    </tr>\n",
       "    <tr>\n",
       "      <th>2</th>\n",
       "      <td>4200.0</td>\n",
       "      <td>9.187155</td>\n",
       "    </tr>\n",
       "    <tr>\n",
       "      <th>3</th>\n",
       "      <td>3647.0</td>\n",
       "      <td>7.977513</td>\n",
       "    </tr>\n",
       "    <tr>\n",
       "      <th>4</th>\n",
       "      <td>3105.0</td>\n",
       "      <td>6.791933</td>\n",
       "    </tr>\n",
       "    <tr>\n",
       "      <th>5</th>\n",
       "      <td>2784.0</td>\n",
       "      <td>6.089772</td>\n",
       "    </tr>\n",
       "    <tr>\n",
       "      <th>6</th>\n",
       "      <td>2757.0</td>\n",
       "      <td>6.030711</td>\n",
       "    </tr>\n",
       "    <tr>\n",
       "      <th>7</th>\n",
       "      <td>2678.0</td>\n",
       "      <td>5.857905</td>\n",
       "    </tr>\n",
       "    <tr>\n",
       "      <th>8</th>\n",
       "      <td>2620.0</td>\n",
       "      <td>5.731035</td>\n",
       "    </tr>\n",
       "    <tr>\n",
       "      <th>9</th>\n",
       "      <td>2612.0</td>\n",
       "      <td>5.713536</td>\n",
       "    </tr>\n",
       "    <tr>\n",
       "      <th>10</th>\n",
       "      <td>1904.0</td>\n",
       "      <td>4.164844</td>\n",
       "    </tr>\n",
       "    <tr>\n",
       "      <th>11</th>\n",
       "      <td>1621.0</td>\n",
       "      <td>3.545805</td>\n",
       "    </tr>\n",
       "    <tr>\n",
       "      <th>12</th>\n",
       "      <td>1614.0</td>\n",
       "      <td>3.530493</td>\n",
       "    </tr>\n",
       "    <tr>\n",
       "      <th>13</th>\n",
       "      <td>1548.0</td>\n",
       "      <td>3.386123</td>\n",
       "    </tr>\n",
       "    <tr>\n",
       "      <th>14</th>\n",
       "      <td>1438.0</td>\n",
       "      <td>3.145507</td>\n",
       "    </tr>\n",
       "    <tr>\n",
       "      <th>15</th>\n",
       "      <td>1153.0</td>\n",
       "      <td>2.522093</td>\n",
       "    </tr>\n",
       "    <tr>\n",
       "      <th>16</th>\n",
       "      <td>988.0</td>\n",
       "      <td>2.161169</td>\n",
       "    </tr>\n",
       "    <tr>\n",
       "      <th>17</th>\n",
       "      <td>923.0</td>\n",
       "      <td>2.018987</td>\n",
       "    </tr>\n",
       "  </tbody>\n",
       "</table>\n",
       "</div>"
      ],
      "text/plain": [
       "    Values  Percentage\n",
       "0   5756.0   12.590778\n",
       "1   4368.0    9.554642\n",
       "2   4200.0    9.187155\n",
       "3   3647.0    7.977513\n",
       "4   3105.0    6.791933\n",
       "5   2784.0    6.089772\n",
       "6   2757.0    6.030711\n",
       "7   2678.0    5.857905\n",
       "8   2620.0    5.731035\n",
       "9   2612.0    5.713536\n",
       "10  1904.0    4.164844\n",
       "11  1621.0    3.545805\n",
       "12  1614.0    3.530493\n",
       "13  1548.0    3.386123\n",
       "14  1438.0    3.145507\n",
       "15  1153.0    2.522093\n",
       "16   988.0    2.161169\n",
       "17   923.0    2.018987"
      ]
     },
     "execution_count": 72,
     "metadata": {},
     "output_type": "execute_result"
    }
   ],
   "source": [
    "print(\"testData\")\n",
    "pd.DataFrame(data=np.column_stack((dfTest.label.value_counts(), (dfTest.label.value_counts()/len(dfTest)*100))),columns=['Values','Percentage'])"
   ]
  },
  {
   "cell_type": "code",
   "execution_count": 73,
   "metadata": {
    "ExecuteTime": {
     "end_time": "2022-03-12T01:38:14.340728Z",
     "start_time": "2022-03-12T01:38:14.132712Z"
    }
   },
   "outputs": [
    {
     "data": {
      "image/png": "[encoded data removed]",
      "text/plain": [
       "<Figure size 432x288 with 1 Axes>"
      ]
     },
     "metadata": {},
     "output_type": "display_data"
    }
   ],
   "source": [
    "dfTest.label.value_counts().plot(kind='pie');"
   ]
  },
  {
   "cell_type": "code",
   "execution_count": 74,
   "metadata": {
    "ExecuteTime": {
     "end_time": "2022-03-12T01:38:15.100203Z",
     "start_time": "2022-03-12T01:38:14.836601Z"
    }
   },
   "outputs": [
    {
     "data": {
      "image/png": "[encoded data removed]",
      "text/plain": [
       "<Figure size 432x288 with 1 Axes>"
      ]
     },
     "metadata": {
      "needs_background": "light"
     },
     "output_type": "display_data"
    }
   ],
   "source": [
    "sns.countplot(x=\"label\",data=dfTest);"
   ]
  },
  {
   "cell_type": "code",
   "execution_count": 76,
   "metadata": {
    "ExecuteTime": {
     "end_time": "2022-03-12T01:39:22.562787Z",
     "start_time": "2022-03-12T01:39:17.258961Z"
    }
   },
   "outputs": [],
   "source": [
    "dfTrain.to_csv('preProcessedTweets_trainF.csv', encoding='utf-8',index = None, header=True)\n",
    "dfValid.to_csv('preProcessedTweets_validF.csv', encoding='utf-8',index = None, header=True)\n",
    "dfTest.to_csv('preProcessedTweets_testF.csv'  , encoding='utf-8',index = None, header=True)"
   ]
  },
  {
   "cell_type": "code",
   "execution_count": 77,
   "metadata": {
    "ExecuteTime": {
     "end_time": "2022-03-12T01:39:25.223748Z",
     "start_time": "2022-03-12T01:39:24.822409Z"
    }
   },
   "outputs": [],
   "source": [
    "dfTrain_10_percent.to_csv('preProcessedTweets_trainF_10_percent.csv', encoding='utf-8',index = None, header=True)\n",
    "dfValid_10_percent.to_csv('preProcessedTweets_validF_10_percent.csv', encoding='utf-8',index = None, header=True)\n",
    "dfTest_10_percent.to_csv('preProcessedTweets_testF_10_percent.csv'  , encoding='utf-8',index = None, header=True)"
   ]
  },
  {
   "cell_type": "markdown",
   "metadata": {},
   "source": [
    "__________________________________________________________________________________________________________________________"
   ]
  }
 ],
 "metadata": {
  "kernelspec": {
   "display_name": "Python 3 (ipykernel)",
   "language": "python",
   "name": "python3"
  },
  "language_info": {
   "codemirror_mode": {
    "name": "ipython",
    "version": 3
   },
   "file_extension": ".py",
   "mimetype": "text/x-python",
   "name": "python",
   "nbconvert_exporter": "python",
   "pygments_lexer": "ipython3",
   "version": "3.7.6"
  },
  "varInspector": {
   "cols": {
    "lenName": 16,
    "lenType": 16,
    "lenVar": 40
   },
   "kernels_config": {
    "python": {
     "delete_cmd_postfix": "",
     "delete_cmd_prefix": "del ",
     "library": "var_list.py",
     "varRefreshCmd": "print(var_dic_list())"
    },
    "r": {
     "delete_cmd_postfix": ") ",
     "delete_cmd_prefix": "rm(",
     "library": "var_list.r",
     "varRefreshCmd": "cat(var_dic_list()) "
    }
   },
   "types_to_exclude": [
    "module",
    "function",
    "builtin_function_or_method",
    "instance",
    "_Feature"
   ],
   "window_display": false
  }
 },
 "nbformat": 4,
 "nbformat_minor": 4
}
